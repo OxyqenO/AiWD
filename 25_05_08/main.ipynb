{
 "cells": [
  {
   "metadata": {
    "ExecuteTime": {
     "end_time": "2025-05-08T10:56:41.430928Z",
     "start_time": "2025-05-08T10:56:41.414963Z"
    }
   },
   "cell_type": "code",
   "source": [
    "# Importujemy niezbędne biblioteki\n",
    "import seaborn as sns\n",
    "import matplotlib.pyplot as plt\n",
    "import pandas as pd\n",
    "%matplotlib inline"
   ],
   "id": "64b743bfad0aafb6",
   "outputs": [],
   "execution_count": 4
  },
  {
   "metadata": {
    "ExecuteTime": {
     "end_time": "2025-05-08T10:56:41.515414Z",
     "start_time": "2025-05-08T10:56:41.508922Z"
    }
   },
   "cell_type": "code",
   "source": [
    "# Ustawienie stylu wykresów (tło jasne)\n",
    "sns.set_style('whitegrid')"
   ],
   "id": "4df901dd21caccfe",
   "outputs": [],
   "execution_count": 5
  },
  {
   "metadata": {
    "ExecuteTime": {
     "end_time": "2025-05-08T10:56:41.592036Z",
     "start_time": "2025-05-08T10:56:41.572581Z"
    }
   },
   "cell_type": "code",
   "source": [
    "# Załadowanie zbioru 'Pokemon.csv' do zmiennej df. Prosze zwrócić uwagę na dodatkowe argumenty\n",
    "# index_col=0 - ustalenie pierwszej kolumny jako kolumna indeksująca\n",
    "# encoding='latin' - załadowanie\n",
    "df = pd.read_csv('Pokemon.csv', index_col=0, encoding='latin')"
   ],
   "id": "b26deb4d463a66e2",
   "outputs": [],
   "execution_count": 6
  },
  {
   "metadata": {
    "ExecuteTime": {
     "end_time": "2025-05-08T10:56:41.655573Z",
     "start_time": "2025-05-08T10:56:41.636869Z"
    }
   },
   "cell_type": "code",
   "source": [
    "# Wypisanie 5 pierwszych rzędów zbioru wraz z nagłówkami\n",
    "df.head()"
   ],
   "id": "8c07e4e54a46d4d6",
   "outputs": [
    {
     "data": {
      "text/plain": [
       "         Name Type 1  Type 2  Total  HP  Attack  Defense  Sp. Atk  Sp. Def  \\\n",
       "#                                                                            \n",
       "1   Bulbasaur  Grass  Poison    318  45      49       49       65       65   \n",
       "2     Ivysaur  Grass  Poison    405  60      62       63       80       80   \n",
       "3    Venusaur  Grass  Poison    525  80      82       83      100      100   \n",
       "4  Charmander   Fire     NaN    309  39      52       43       60       50   \n",
       "5  Charmeleon   Fire     NaN    405  58      64       58       80       65   \n",
       "\n",
       "   Speed  Stage  Legendary  \n",
       "#                           \n",
       "1     45      1      False  \n",
       "2     60      2      False  \n",
       "3     80      3      False  \n",
       "4     65      1      False  \n",
       "5     80      2      False  "
      ],
      "text/html": [
       "<div>\n",
       "<style scoped>\n",
       "    .dataframe tbody tr th:only-of-type {\n",
       "        vertical-align: middle;\n",
       "    }\n",
       "\n",
       "    .dataframe tbody tr th {\n",
       "        vertical-align: top;\n",
       "    }\n",
       "\n",
       "    .dataframe thead th {\n",
       "        text-align: right;\n",
       "    }\n",
       "</style>\n",
       "<table border=\"1\" class=\"dataframe\">\n",
       "  <thead>\n",
       "    <tr style=\"text-align: right;\">\n",
       "      <th></th>\n",
       "      <th>Name</th>\n",
       "      <th>Type 1</th>\n",
       "      <th>Type 2</th>\n",
       "      <th>Total</th>\n",
       "      <th>HP</th>\n",
       "      <th>Attack</th>\n",
       "      <th>Defense</th>\n",
       "      <th>Sp. Atk</th>\n",
       "      <th>Sp. Def</th>\n",
       "      <th>Speed</th>\n",
       "      <th>Stage</th>\n",
       "      <th>Legendary</th>\n",
       "    </tr>\n",
       "    <tr>\n",
       "      <th>#</th>\n",
       "      <th></th>\n",
       "      <th></th>\n",
       "      <th></th>\n",
       "      <th></th>\n",
       "      <th></th>\n",
       "      <th></th>\n",
       "      <th></th>\n",
       "      <th></th>\n",
       "      <th></th>\n",
       "      <th></th>\n",
       "      <th></th>\n",
       "      <th></th>\n",
       "    </tr>\n",
       "  </thead>\n",
       "  <tbody>\n",
       "    <tr>\n",
       "      <th>1</th>\n",
       "      <td>Bulbasaur</td>\n",
       "      <td>Grass</td>\n",
       "      <td>Poison</td>\n",
       "      <td>318</td>\n",
       "      <td>45</td>\n",
       "      <td>49</td>\n",
       "      <td>49</td>\n",
       "      <td>65</td>\n",
       "      <td>65</td>\n",
       "      <td>45</td>\n",
       "      <td>1</td>\n",
       "      <td>False</td>\n",
       "    </tr>\n",
       "    <tr>\n",
       "      <th>2</th>\n",
       "      <td>Ivysaur</td>\n",
       "      <td>Grass</td>\n",
       "      <td>Poison</td>\n",
       "      <td>405</td>\n",
       "      <td>60</td>\n",
       "      <td>62</td>\n",
       "      <td>63</td>\n",
       "      <td>80</td>\n",
       "      <td>80</td>\n",
       "      <td>60</td>\n",
       "      <td>2</td>\n",
       "      <td>False</td>\n",
       "    </tr>\n",
       "    <tr>\n",
       "      <th>3</th>\n",
       "      <td>Venusaur</td>\n",
       "      <td>Grass</td>\n",
       "      <td>Poison</td>\n",
       "      <td>525</td>\n",
       "      <td>80</td>\n",
       "      <td>82</td>\n",
       "      <td>83</td>\n",
       "      <td>100</td>\n",
       "      <td>100</td>\n",
       "      <td>80</td>\n",
       "      <td>3</td>\n",
       "      <td>False</td>\n",
       "    </tr>\n",
       "    <tr>\n",
       "      <th>4</th>\n",
       "      <td>Charmander</td>\n",
       "      <td>Fire</td>\n",
       "      <td>NaN</td>\n",
       "      <td>309</td>\n",
       "      <td>39</td>\n",
       "      <td>52</td>\n",
       "      <td>43</td>\n",
       "      <td>60</td>\n",
       "      <td>50</td>\n",
       "      <td>65</td>\n",
       "      <td>1</td>\n",
       "      <td>False</td>\n",
       "    </tr>\n",
       "    <tr>\n",
       "      <th>5</th>\n",
       "      <td>Charmeleon</td>\n",
       "      <td>Fire</td>\n",
       "      <td>NaN</td>\n",
       "      <td>405</td>\n",
       "      <td>58</td>\n",
       "      <td>64</td>\n",
       "      <td>58</td>\n",
       "      <td>80</td>\n",
       "      <td>65</td>\n",
       "      <td>80</td>\n",
       "      <td>2</td>\n",
       "      <td>False</td>\n",
       "    </tr>\n",
       "  </tbody>\n",
       "</table>\n",
       "</div>"
      ]
     },
     "execution_count": 7,
     "metadata": {},
     "output_type": "execute_result"
    }
   ],
   "execution_count": 7
  },
  {
   "metadata": {
    "ExecuteTime": {
     "end_time": "2025-05-08T10:56:41.764708Z",
     "start_time": "2025-05-08T10:56:41.760319Z"
    }
   },
   "cell_type": "code",
   "source": [
    "# Tam gdzie nazwy kolumn mają spacje, zastąpimy je podkreślnikiem '_'\n",
    "df.columns = [c.replace(' ', '_') for c in df.columns]"
   ],
   "id": "517682f0e9ead161",
   "outputs": [],
   "execution_count": 8
  },
  {
   "metadata": {
    "ExecuteTime": {
     "end_time": "2025-05-08T10:56:41.916003Z",
     "start_time": "2025-05-08T10:56:41.899602Z"
    }
   },
   "cell_type": "code",
   "source": "df.head()",
   "id": "f78c34cd0e820696",
   "outputs": [
    {
     "data": {
      "text/plain": [
       "         Name Type_1  Type_2  Total  HP  Attack  Defense  Sp._Atk  Sp._Def  \\\n",
       "#                                                                            \n",
       "1   Bulbasaur  Grass  Poison    318  45      49       49       65       65   \n",
       "2     Ivysaur  Grass  Poison    405  60      62       63       80       80   \n",
       "3    Venusaur  Grass  Poison    525  80      82       83      100      100   \n",
       "4  Charmander   Fire     NaN    309  39      52       43       60       50   \n",
       "5  Charmeleon   Fire     NaN    405  58      64       58       80       65   \n",
       "\n",
       "   Speed  Stage  Legendary  \n",
       "#                           \n",
       "1     45      1      False  \n",
       "2     60      2      False  \n",
       "3     80      3      False  \n",
       "4     65      1      False  \n",
       "5     80      2      False  "
      ],
      "text/html": [
       "<div>\n",
       "<style scoped>\n",
       "    .dataframe tbody tr th:only-of-type {\n",
       "        vertical-align: middle;\n",
       "    }\n",
       "\n",
       "    .dataframe tbody tr th {\n",
       "        vertical-align: top;\n",
       "    }\n",
       "\n",
       "    .dataframe thead th {\n",
       "        text-align: right;\n",
       "    }\n",
       "</style>\n",
       "<table border=\"1\" class=\"dataframe\">\n",
       "  <thead>\n",
       "    <tr style=\"text-align: right;\">\n",
       "      <th></th>\n",
       "      <th>Name</th>\n",
       "      <th>Type_1</th>\n",
       "      <th>Type_2</th>\n",
       "      <th>Total</th>\n",
       "      <th>HP</th>\n",
       "      <th>Attack</th>\n",
       "      <th>Defense</th>\n",
       "      <th>Sp._Atk</th>\n",
       "      <th>Sp._Def</th>\n",
       "      <th>Speed</th>\n",
       "      <th>Stage</th>\n",
       "      <th>Legendary</th>\n",
       "    </tr>\n",
       "    <tr>\n",
       "      <th>#</th>\n",
       "      <th></th>\n",
       "      <th></th>\n",
       "      <th></th>\n",
       "      <th></th>\n",
       "      <th></th>\n",
       "      <th></th>\n",
       "      <th></th>\n",
       "      <th></th>\n",
       "      <th></th>\n",
       "      <th></th>\n",
       "      <th></th>\n",
       "      <th></th>\n",
       "    </tr>\n",
       "  </thead>\n",
       "  <tbody>\n",
       "    <tr>\n",
       "      <th>1</th>\n",
       "      <td>Bulbasaur</td>\n",
       "      <td>Grass</td>\n",
       "      <td>Poison</td>\n",
       "      <td>318</td>\n",
       "      <td>45</td>\n",
       "      <td>49</td>\n",
       "      <td>49</td>\n",
       "      <td>65</td>\n",
       "      <td>65</td>\n",
       "      <td>45</td>\n",
       "      <td>1</td>\n",
       "      <td>False</td>\n",
       "    </tr>\n",
       "    <tr>\n",
       "      <th>2</th>\n",
       "      <td>Ivysaur</td>\n",
       "      <td>Grass</td>\n",
       "      <td>Poison</td>\n",
       "      <td>405</td>\n",
       "      <td>60</td>\n",
       "      <td>62</td>\n",
       "      <td>63</td>\n",
       "      <td>80</td>\n",
       "      <td>80</td>\n",
       "      <td>60</td>\n",
       "      <td>2</td>\n",
       "      <td>False</td>\n",
       "    </tr>\n",
       "    <tr>\n",
       "      <th>3</th>\n",
       "      <td>Venusaur</td>\n",
       "      <td>Grass</td>\n",
       "      <td>Poison</td>\n",
       "      <td>525</td>\n",
       "      <td>80</td>\n",
       "      <td>82</td>\n",
       "      <td>83</td>\n",
       "      <td>100</td>\n",
       "      <td>100</td>\n",
       "      <td>80</td>\n",
       "      <td>3</td>\n",
       "      <td>False</td>\n",
       "    </tr>\n",
       "    <tr>\n",
       "      <th>4</th>\n",
       "      <td>Charmander</td>\n",
       "      <td>Fire</td>\n",
       "      <td>NaN</td>\n",
       "      <td>309</td>\n",
       "      <td>39</td>\n",
       "      <td>52</td>\n",
       "      <td>43</td>\n",
       "      <td>60</td>\n",
       "      <td>50</td>\n",
       "      <td>65</td>\n",
       "      <td>1</td>\n",
       "      <td>False</td>\n",
       "    </tr>\n",
       "    <tr>\n",
       "      <th>5</th>\n",
       "      <td>Charmeleon</td>\n",
       "      <td>Fire</td>\n",
       "      <td>NaN</td>\n",
       "      <td>405</td>\n",
       "      <td>58</td>\n",
       "      <td>64</td>\n",
       "      <td>58</td>\n",
       "      <td>80</td>\n",
       "      <td>65</td>\n",
       "      <td>80</td>\n",
       "      <td>2</td>\n",
       "      <td>False</td>\n",
       "    </tr>\n",
       "  </tbody>\n",
       "</table>\n",
       "</div>"
      ]
     },
     "execution_count": 9,
     "metadata": {},
     "output_type": "execute_result"
    }
   ],
   "execution_count": 9
  },
  {
   "metadata": {
    "ExecuteTime": {
     "end_time": "2025-05-08T10:56:42.190065Z",
     "start_time": "2025-05-08T10:56:42.186602Z"
    }
   },
   "cell_type": "code",
   "source": [
    "# Zadanie 1 - Stwórz wykres punktowy (scatter plot)\n",
    "# https://seaborn.pydata.org/generated/seaborn.scatterplot.html\n",
    "#\n",
    "# Wykres ma przedstawiać zależność ataku (Attack) od obrony (Defense) dla pokemonów mających wyłącznie jeden typ (kolumna Type 2 bez wartości) dla 3 róznych etapów ewolucji pokemonów (kolumna Stage).\n",
    "#\n",
    "#     pogrupuj elementy względem ewolucji pokemona - skorzystaj z parametru 'hue'\n",
    "#     aby sprawdzić czy Type 2 ma wartość NaN, wykorzystaj funkcję isnull())\n",
    "#     na osi x przedstaw atak, a na osi y obronę pokemona\n",
    "#     przesuń legendę wykorzystując funkcję sns.move_legend() https://seaborn.pydata.org/generated/seaborn.move_legend.html\n",
    "#     dodaj tytuł, opisz oś x i y (możesz użyć matplotliba)\n",
    "#\n",
    "# ** Uwaga! Aby nie stracić przykładu rozwiązania, nie wywołuj ponownie poniższej pustej komórki. **"
   ],
   "id": "b02b20feab286fde",
   "outputs": [],
   "execution_count": 10
  },
  {
   "metadata": {
    "ExecuteTime": {
     "end_time": "2025-05-08T10:56:42.472010Z",
     "start_time": "2025-05-08T10:56:42.467753Z"
    }
   },
   "cell_type": "code",
   "source": "df_new = df[df[\"Type_2\"].isnull()]",
   "id": "52adc976d2d9068b",
   "outputs": [],
   "execution_count": 11
  },
  {
   "metadata": {
    "ExecuteTime": {
     "end_time": "2025-05-08T10:56:42.987375Z",
     "start_time": "2025-05-08T10:56:42.745096Z"
    }
   },
   "cell_type": "code",
   "source": [
    "ax = sns.scatterplot(data=df_new, x='Attack', y=\"Defense\", hue=\"Stage\")\n",
    "sns.move_legend(ax, \"upper left\", bbox_to_anchor=(1, 1))\n",
    "plt.title(\"Zależność ataku do obrony pokemów typu 1 o trzech ewolucjach.\")\n",
    "plt.xlabel(\"Atak\")\n",
    "plt.ylabel (\"Obrona\")\n",
    "plt.show()"
   ],
   "id": "fb10e23e50665e3a",
   "outputs": [
    {
     "data": {
      "text/plain": [
       "<Figure size 640x480 with 1 Axes>"
      ],
      "image/png": "[encoded data removed]"
     },
     "metadata": {},
     "output_type": "display_data"
    }
   ],
   "execution_count": 12
  },
  {
   "metadata": {
    "ExecuteTime": {
     "end_time": "2025-05-08T10:56:43.035787Z",
     "start_time": "2025-05-08T10:56:43.032038Z"
    }
   },
   "cell_type": "code",
   "source": [
    "# Zadanie 2 - Stwórz wykres słupkowy (bar plot)\n",
    "#\n",
    "# https://seaborn.pydata.org/generated/seaborn.barplot.html\n",
    "#\n",
    "# Wykres słupkowy ma przedstawiać liczbę pokemonów, których podstawowym typem (Type 1) jest typ trawiasy (Grass), ognisty (Fire) lub wodny (Water).\n",
    "#\n",
    "#     na początku odpowiednio przefiltruj dane, to znaczy wyciągnij informacje wyłacznie o wspomnianych trzech typach pokemonów\n",
    "#\n",
    "#     następnie pogrupuj dane względem typu\n",
    "#\n",
    "#     wyciągnij informację na temat ilości pokemonów dla każdego z typów\n",
    "#         podpowiedź: dla ułatwienia zadania - jeśli używasz groupby() i count() - przekonwertuj serię danych na dataframe używając reset_index()\n",
    "#\n",
    "#     ustaw kolor słupków zgodnie z typem pokemona - skorzystaj z argumentu palette\n",
    "#\n",
    "#         możesz użyć poniższego schematu kolorów\n",
    "#\n",
    "#         pkmn_type_colors = ['#F08030','#78C850','#6890F0']\n",
    "#\n",
    "#     ustaw etykietę osi x i y, nadaj wykresowi tytuł (możesz użyć matplotlib)"
   ],
   "id": "86a2778f9de37d66",
   "outputs": [],
   "execution_count": 13
  },
  {
   "metadata": {
    "ExecuteTime": {
     "end_time": "2025-05-08T10:56:43.251099Z",
     "start_time": "2025-05-08T10:56:43.093229Z"
    }
   },
   "cell_type": "code",
   "source": [
    "# Oba są poprawne\n",
    "df_new2 = df[df['Type_1'].isin(['Grass', 'Water', 'Fire'])]\n",
    "df_new2 = df[(df['Type_1'] == 'Grass') | (df['Type_1'] == 'Water') | (df['Type_1'] == 'Fire')]\n",
    "\n",
    "df_grouped = df_new2.groupby('Type_1')['Total'].count().reset_index()\n",
    "\n",
    "pkmn_type_colors = ['#F08030','#78C850','#6890F0']\n",
    "\n",
    "sns.barplot(data = df_grouped, x = \"Type_1\", y = \"Total\", palette = pkmn_type_colors)\n",
    "plt.show()"
   ],
   "id": "941b3f9c314d2024",
   "outputs": [
    {
     "name": "stderr",
     "output_type": "stream",
     "text": [
      "/tmp/ipykernel_57605/1704351408.py:9: FutureWarning: \n",
      "\n",
      "Passing `palette` without assigning `hue` is deprecated and will be removed in v0.14.0. Assign the `x` variable to `hue` and set `legend=False` for the same effect.\n",
      "\n",
      "  sns.barplot(data = df_grouped, x = \"Type_1\", y = \"Total\", palette = pkmn_type_colors)\n"
     ]
    },
    {
     "data": {
      "text/plain": [
       "<Figure size 640x480 with 1 Axes>"
      ],
      "image/png": "[encoded data removed]"
     },
     "metadata": {},
     "output_type": "display_data"
    }
   ],
   "execution_count": 14
  },
  {
   "metadata": {
    "ExecuteTime": {
     "end_time": "2025-05-08T10:56:43.464436Z",
     "start_time": "2025-05-08T10:56:43.459024Z"
    }
   },
   "cell_type": "code",
   "source": [
    "# Zadanie 3 - Stwórz wykres kołowy (pie chart)\n",
    "#\n",
    "# Biblioteka seaborn nie ma dedykowanej funkcji służącej do stworzenia wykresu kołowego. Aby stworzyć wykres użyj biblioteki matplotlib: plt.pie() , jednak aby nadać schemat kolorów skorzystaj z funkcji:\n",
    "#\n",
    "# sns.color_palette()\n",
    "#\n",
    "# https://seaborn.pydata.org/generated/seaborn.color_palette.html#seaborn.color_palette\n",
    "#\n",
    "# Wykres kołowy powinien przedstawić jaki procent pokemonów stanowią pokemony legendarne:\n",
    "#\n",
    "#     zmień nazwy wartości kolumny \"Legendary\" z \"False\"/\"True\" na \"Zwykły\"/\"Legendarny\"\n",
    "#     wyświetl wartości procentowe na wykresie kołowym stosując parametr autopct\n",
    "#     nadaj wykresowi tytuł (możesz użyć matplotlib)"
   ],
   "id": "395b6d9915fb6a0f",
   "outputs": [],
   "execution_count": 15
  },
  {
   "metadata": {
    "ExecuteTime": {
     "end_time": "2025-05-08T10:56:50.952032Z",
     "start_time": "2025-05-08T10:56:50.882596Z"
    }
   },
   "cell_type": "code",
   "source": [
    "df_new3 = df.groupby('Legendary')['Legend'].count()\n",
    "df_new3.head()"
   ],
   "id": "66af11dee59ae0db",
   "outputs": [
    {
     "ename": "KeyError",
     "evalue": "'Column not found: Legend'",
     "output_type": "error",
     "traceback": [
      "\u001B[31m---------------------------------------------------------------------------\u001B[39m",
      "\u001B[31mKeyError\u001B[39m                                  Traceback (most recent call last)",
      "\u001B[36mCell\u001B[39m\u001B[36m \u001B[39m\u001B[32mIn[17]\u001B[39m\u001B[32m, line 1\u001B[39m\n\u001B[32m----> \u001B[39m\u001B[32m1\u001B[39m df_new3 = df.groupby(\u001B[33m'\u001B[39m\u001B[33mLegendary\u001B[39m\u001B[33m'\u001B[39m)[\u001B[33m'\u001B[39m\u001B[33mLegend\u001B[39m\u001B[33m'\u001B[39m].count()\n\u001B[32m      2\u001B[39m df_new3.head()\n",
      "\u001B[36mFile \u001B[39m\u001B[32m~/miniconda3/lib/python3.12/site-packages/pandas/core/groupby/generic.py:1951\u001B[39m, in \u001B[36mDataFrameGroupBy.__getitem__\u001B[39m\u001B[34m(self, key)\u001B[39m\n\u001B[32m   1944\u001B[39m \u001B[38;5;28;01mif\u001B[39;00m \u001B[38;5;28misinstance\u001B[39m(key, \u001B[38;5;28mtuple\u001B[39m) \u001B[38;5;129;01mand\u001B[39;00m \u001B[38;5;28mlen\u001B[39m(key) > \u001B[32m1\u001B[39m:\n\u001B[32m   1945\u001B[39m     \u001B[38;5;66;03m# if len == 1, then it becomes a SeriesGroupBy and this is actually\u001B[39;00m\n\u001B[32m   1946\u001B[39m     \u001B[38;5;66;03m# valid syntax, so don't raise\u001B[39;00m\n\u001B[32m   1947\u001B[39m     \u001B[38;5;28;01mraise\u001B[39;00m \u001B[38;5;167;01mValueError\u001B[39;00m(\n\u001B[32m   1948\u001B[39m         \u001B[33m\"\u001B[39m\u001B[33mCannot subset columns with a tuple with more than one element. \u001B[39m\u001B[33m\"\u001B[39m\n\u001B[32m   1949\u001B[39m         \u001B[33m\"\u001B[39m\u001B[33mUse a list instead.\u001B[39m\u001B[33m\"\u001B[39m\n\u001B[32m   1950\u001B[39m     )\n\u001B[32m-> \u001B[39m\u001B[32m1951\u001B[39m \u001B[38;5;28;01mreturn\u001B[39;00m \u001B[38;5;28msuper\u001B[39m().\u001B[34m__getitem__\u001B[39m(key)\n",
      "\u001B[36mFile \u001B[39m\u001B[32m~/miniconda3/lib/python3.12/site-packages/pandas/core/base.py:244\u001B[39m, in \u001B[36mSelectionMixin.__getitem__\u001B[39m\u001B[34m(self, key)\u001B[39m\n\u001B[32m    242\u001B[39m \u001B[38;5;28;01melse\u001B[39;00m:\n\u001B[32m    243\u001B[39m     \u001B[38;5;28;01mif\u001B[39;00m key \u001B[38;5;129;01mnot\u001B[39;00m \u001B[38;5;129;01min\u001B[39;00m \u001B[38;5;28mself\u001B[39m.obj:\n\u001B[32m--> \u001B[39m\u001B[32m244\u001B[39m         \u001B[38;5;28;01mraise\u001B[39;00m \u001B[38;5;167;01mKeyError\u001B[39;00m(\u001B[33mf\u001B[39m\u001B[33m\"\u001B[39m\u001B[33mColumn not found: \u001B[39m\u001B[38;5;132;01m{\u001B[39;00mkey\u001B[38;5;132;01m}\u001B[39;00m\u001B[33m\"\u001B[39m)\n\u001B[32m    245\u001B[39m     ndim = \u001B[38;5;28mself\u001B[39m.obj[key].ndim\n\u001B[32m    246\u001B[39m     \u001B[38;5;28;01mreturn\u001B[39;00m \u001B[38;5;28mself\u001B[39m._gotitem(key, ndim=ndim)\n",
      "\u001B[31mKeyError\u001B[39m: 'Column not found: Legend'"
     ]
    }
   ],
   "execution_count": 17
  }
 ],
 "metadata": {
  "kernelspec": {
   "display_name": "Python 3",
   "language": "python",
   "name": "python3"
  },
  "language_info": {
   "codemirror_mode": {
    "name": "ipython",
    "version": 2
   },
   "file_extension": ".py",
   "mimetype": "text/x-python",
   "name": "python",
   "nbconvert_exporter": "python",
   "pygments_lexer": "ipython2",
   "version": "2.7.6"
  }
 },
 "nbformat": 4,
 "nbformat_minor": 5
}

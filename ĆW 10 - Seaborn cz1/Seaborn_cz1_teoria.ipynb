{
 "cells": [
  {
   "cell_type": "markdown",
   "metadata": {},
   "source": [
    "### Biblioteka Seaborn i przypomnienie pandas. Praca ze skryptami o rozszerzeniu .ipynb (Jupyter Notebook)."
   ]
  },
  {
   "cell_type": "markdown",
   "metadata": {},
   "source": [
    "#### **Jupyter Notebook**\n",
    "\n",
    "Notatniki jupyterowe, będące skryptami o rozszerzeniu `.ipynb` pozwalają na rozdzielenie pisanego kodu na wygodne w użyciu bloki.\n",
    "\n",
    "Mamy możliwość uruchomienia interesujących nas w danym momencie porcji kodu (komórek), bez potrzeby komentowania pozostałych jego partii lub umieszczania ich w funkcjach.\n",
    "\n",
    "Jest to szczególnie przydatne przy tworzeniu wielu wizualizacji korzystających z różnych zbiorów danych."
   ]
  },
  {
   "cell_type": "markdown",
   "metadata": {},
   "source": [
    "***"
   ]
  },
  {
   "cell_type": "markdown",
   "metadata": {},
   "source": [
    "Zarówno ten, jak i powyższe bloki napisane są przy wykorzystaniu języka znaczników, tzw. `Markdown` - w tym przypadku są to bloki zawierające znaki, które formatują tekst. <br>\n",
    "*Po więcej informacji: https://pl.wikipedia.org/wiki/Markdown , https://daringfireball.net/projects/markdown/syntax*"
   ]
  },
  {
   "cell_type": "markdown",
   "metadata": {},
   "source": [
    "Przykład tesktu wpisanego w blok ustawiony na typ \"Markdown\" -> wciśnij Shift+Enter <br>\n",
    "Aby cofnąć \"wywołanie\" tego bloku, kliknij dwukrotnie lewym przyciskiem myszy na aktualnie aktywną komórkę (zaznaczona z lewej strony kolorem niebieskim)"
   ]
  },
  {
   "cell_type": "markdown",
   "metadata": {},
   "source": [
    "Poniżej przykład gotowego do uruchomienia bloku kodu (\"Code block\"):"
   ]
  },
  {
   "cell_type": "code",
   "metadata": {
    "ExecuteTime": {
     "end_time": "2025-05-08T09:58:00.402254Z",
     "start_time": "2025-05-08T09:58:00.319895Z"
    }
   },
   "source": [
    "import seaborn as sns\n",
    "import matplotlib.pyplot as plt\n",
    "import pandas as pd\n",
    "import numpy as np"
   ],
   "outputs": [
    {
     "ename": "ModuleNotFoundError",
     "evalue": "No module named 'seaborn'",
     "output_type": "error",
     "traceback": [
      "\u001B[31m---------------------------------------------------------------------------\u001B[39m",
      "\u001B[31mModuleNotFoundError\u001B[39m                       Traceback (most recent call last)",
      "\u001B[36mCell\u001B[39m\u001B[36m \u001B[39m\u001B[32mIn[3]\u001B[39m\u001B[32m, line 1\u001B[39m\n\u001B[32m----> \u001B[39m\u001B[32m1\u001B[39m \u001B[38;5;28;01mimport\u001B[39;00m\u001B[38;5;250m \u001B[39m\u001B[34;01mseaborn\u001B[39;00m\u001B[38;5;250m \u001B[39m\u001B[38;5;28;01mas\u001B[39;00m\u001B[38;5;250m \u001B[39m\u001B[34;01msns\u001B[39;00m\n\u001B[32m      2\u001B[39m \u001B[38;5;28;01mimport\u001B[39;00m\u001B[38;5;250m \u001B[39m\u001B[34;01mmatplotlib\u001B[39;00m\u001B[34;01m.\u001B[39;00m\u001B[34;01mpyplot\u001B[39;00m\u001B[38;5;250m \u001B[39m\u001B[38;5;28;01mas\u001B[39;00m\u001B[38;5;250m \u001B[39m\u001B[34;01mplt\u001B[39;00m\n\u001B[32m      3\u001B[39m \u001B[38;5;28;01mimport\u001B[39;00m\u001B[38;5;250m \u001B[39m\u001B[34;01mpandas\u001B[39;00m\u001B[38;5;250m \u001B[39m\u001B[38;5;28;01mas\u001B[39;00m\u001B[38;5;250m \u001B[39m\u001B[34;01mpd\u001B[39;00m\n",
      "\u001B[31mModuleNotFoundError\u001B[39m: No module named 'seaborn'"
     ]
    }
   ],
   "execution_count": 3
  },
  {
   "cell_type": "markdown",
   "metadata": {},
   "source": [
    "***"
   ]
  },
  {
   "cell_type": "markdown",
   "metadata": {},
   "source": [
    "#### **Biblioteka seaborn**\n",
    "Biblioteka seaborn jest biblioteką opartą o bibliotekę matplotlib z silnym wsparciem dla struktur danych biblioteki pandas. <br>\n",
    "Wykresy stworzone za pomocą biblioteki seaborn charakteryzują się bardziej atrakcyjną oprawą graficzną w porównaniu do standardowych wykresów biblioteki matplotlib. <br>\n",
    "Oprócz estetyki trzeba zwrócić uwagę na szeroką gamą wykresów, przydatnych przy bardziej szczegółowej analizie danych i ich graficznym przedstawieniu: <br> *https://seaborn.pydata.org/examples/index.html*"
   ]
  },
  {
   "cell_type": "markdown",
   "metadata": {
    "pycharm": {
     "name": "#%% md\n"
    }
   },
   "source": [
    "#### **1. Analiza i przygotowanie zbioru danych zamówienia.csv**"
   ]
  },
  {
   "cell_type": "markdown",
   "metadata": {
    "pycharm": {
     "name": "#%% md\n"
    }
   },
   "source": [
    "> W ramach praktyki oraz pokazania różnic pomiędzy wykresami generowanymi bezpośrednio poprzez funkcje pandas vs seaborn wykorzystamy na początek przedstawiony już wcześniej dataset zamówienia."
   ]
  },
  {
   "cell_type": "code",
   "metadata": {
    "pycharm": {
     "name": "#%%\n"
    },
    "ExecuteTime": {
     "end_time": "2025-05-08T09:57:37.989441Z",
     "start_time": "2025-05-08T09:57:37.881142Z"
    }
   },
   "source": [
    "df = pd.read_csv('./zamowienia.csv', sep=';')\n",
    "df.head()"
   ],
   "outputs": [
    {
     "ename": "NameError",
     "evalue": "name 'pd' is not defined",
     "output_type": "error",
     "traceback": [
      "\u001B[31m---------------------------------------------------------------------------\u001B[39m",
      "\u001B[31mNameError\u001B[39m                                 Traceback (most recent call last)",
      "\u001B[36mCell\u001B[39m\u001B[36m \u001B[39m\u001B[32mIn[1]\u001B[39m\u001B[32m, line 1\u001B[39m\n\u001B[32m----> \u001B[39m\u001B[32m1\u001B[39m df = pd.read_csv(\u001B[33m'\u001B[39m\u001B[33m./zamowienia.csv\u001B[39m\u001B[33m'\u001B[39m, sep=\u001B[33m'\u001B[39m\u001B[33m;\u001B[39m\u001B[33m'\u001B[39m)\n\u001B[32m      2\u001B[39m df.head()\n",
      "\u001B[31mNameError\u001B[39m: name 'pd' is not defined"
     ]
    }
   ],
   "execution_count": 1
  },
  {
   "cell_type": "code",
   "execution_count": 3,
   "metadata": {
    "pycharm": {
     "name": "#%%\n"
    }
   },
   "outputs": [
    {
     "data": {
      "text/html": [
       "<div>\n",
       "<style scoped>\n",
       "    .dataframe tbody tr th:only-of-type {\n",
       "        vertical-align: middle;\n",
       "    }\n",
       "\n",
       "    .dataframe tbody tr th {\n",
       "        vertical-align: top;\n",
       "    }\n",
       "\n",
       "    .dataframe thead th {\n",
       "        text-align: right;\n",
       "    }\n",
       "</style>\n",
       "<table border=\"1\" class=\"dataframe\">\n",
       "  <thead>\n",
       "    <tr style=\"text-align: right;\">\n",
       "      <th></th>\n",
       "      <th>idZamowienia</th>\n",
       "      <th>Utarg</th>\n",
       "    </tr>\n",
       "  </thead>\n",
       "  <tbody>\n",
       "    <tr>\n",
       "      <th>count</th>\n",
       "      <td>799.000000</td>\n",
       "      <td>799.000000</td>\n",
       "    </tr>\n",
       "    <tr>\n",
       "      <th>mean</th>\n",
       "      <td>10647.175219</td>\n",
       "      <td>1537.330914</td>\n",
       "    </tr>\n",
       "    <tr>\n",
       "      <th>std</th>\n",
       "      <td>231.091915</td>\n",
       "      <td>1860.590758</td>\n",
       "    </tr>\n",
       "    <tr>\n",
       "      <th>min</th>\n",
       "      <td>10248.000000</td>\n",
       "      <td>12.500000</td>\n",
       "    </tr>\n",
       "    <tr>\n",
       "      <th>25%</th>\n",
       "      <td>10447.500000</td>\n",
       "      <td>467.075000</td>\n",
       "    </tr>\n",
       "    <tr>\n",
       "      <th>50%</th>\n",
       "      <td>10647.000000</td>\n",
       "      <td>956.670000</td>\n",
       "    </tr>\n",
       "    <tr>\n",
       "      <th>75%</th>\n",
       "      <td>10846.500000</td>\n",
       "      <td>1891.375000</td>\n",
       "    </tr>\n",
       "    <tr>\n",
       "      <th>max</th>\n",
       "      <td>11057.000000</td>\n",
       "      <td>16387.500000</td>\n",
       "    </tr>\n",
       "  </tbody>\n",
       "</table>\n",
       "</div>"
      ],
      "text/plain": [
       "       idZamowienia         Utarg\n",
       "count    799.000000    799.000000\n",
       "mean   10647.175219   1537.330914\n",
       "std      231.091915   1860.590758\n",
       "min    10248.000000     12.500000\n",
       "25%    10447.500000    467.075000\n",
       "50%    10647.000000    956.670000\n",
       "75%    10846.500000   1891.375000\n",
       "max    11057.000000  16387.500000"
      ]
     },
     "execution_count": 3,
     "metadata": {},
     "output_type": "execute_result"
    }
   ],
   "source": [
    "# funckja przedstawiająca podstawowe statystyki danych w zbiorze:\n",
    "df.describe()"
   ]
  },
  {
   "cell_type": "code",
   "execution_count": 4,
   "metadata": {},
   "outputs": [
    {
     "data": {
      "text/plain": [
       "count      799.000000\n",
       "mean      1537.330914\n",
       "std       1860.590758\n",
       "min         12.500000\n",
       "25%        467.075000\n",
       "50%        956.670000\n",
       "75%       1891.375000\n",
       "max      16387.500000\n",
       "Name: Utarg, dtype: float64"
      ]
     },
     "execution_count": 4,
     "metadata": {},
     "output_type": "execute_result"
    }
   ],
   "source": [
    "# określenie kolumny, z której chcemy uzyskać podstawowe statystyki:\n",
    "df['Utarg'].describe()"
   ]
  },
  {
   "cell_type": "code",
   "execution_count": 5,
   "metadata": {
    "pycharm": {
     "name": "#%%\n"
    }
   },
   "outputs": [
    {
     "name": "stdout",
     "output_type": "stream",
     "text": [
      "<class 'pandas.core.frame.DataFrame'>\n",
      "RangeIndex: 799 entries, 0 to 798\n",
      "Data columns (total 5 columns):\n",
      " #   Column           Non-Null Count  Dtype  \n",
      "---  ------           --------------  -----  \n",
      " 0   Kraj             799 non-null    object \n",
      " 1   Sprzedawca       799 non-null    object \n",
      " 2   Data zamowienia  799 non-null    object \n",
      " 3   idZamowienia     799 non-null    int64  \n",
      " 4   Utarg            799 non-null    float64\n",
      "dtypes: float64(1), int64(1), object(3)\n",
      "memory usage: 31.3+ KB\n"
     ]
    }
   ],
   "source": [
    "df.info()"
   ]
  },
  {
   "cell_type": "markdown",
   "metadata": {
    "pycharm": {
     "name": "#%% md\n"
    }
   },
   "source": [
    "Z informacji powyżej wynika, że pandas nie wykonał automatycznej konwersji wartości w kolumnie `Data zamowienia` na typ datetime. Należy to zrobić ręcznie. Jeżeli format daty nie został automatycznie rozpoznany lub chcemy go zmienić, należy jawnie określić format konwersji."
   ]
  },
  {
   "cell_type": "code",
   "execution_count": 6,
   "metadata": {
    "pycharm": {
     "name": "#%%\n"
    }
   },
   "outputs": [
    {
     "name": "stdout",
     "output_type": "stream",
     "text": [
      "<class 'pandas.core.frame.DataFrame'>\n",
      "RangeIndex: 799 entries, 0 to 798\n",
      "Data columns (total 5 columns):\n",
      " #   Column           Non-Null Count  Dtype         \n",
      "---  ------           --------------  -----         \n",
      " 0   Kraj             799 non-null    object        \n",
      " 1   Sprzedawca       799 non-null    object        \n",
      " 2   Data zamowienia  799 non-null    datetime64[ns]\n",
      " 3   idZamowienia     799 non-null    int64         \n",
      " 4   Utarg            799 non-null    float64       \n",
      "dtypes: datetime64[ns](1), float64(1), int64(1), object(2)\n",
      "memory usage: 31.3+ KB\n"
     ]
    }
   ],
   "source": [
    "# Żeby zamienić typ wartości w kolumnie, koniecznie ją nadpisz\n",
    "df['Data zamowienia'] = pd.to_datetime(df['Data zamowienia'], format='%Y-%m-%d') # parametrem możesz ustawić preferowany format daty\n",
    "df.info()"
   ]
  },
  {
   "cell_type": "code",
   "execution_count": 7,
   "metadata": {
    "pycharm": {
     "name": "#%%\n"
    }
   },
   "outputs": [
    {
     "data": {
      "text/html": [
       "<div>\n",
       "<style scoped>\n",
       "    .dataframe tbody tr th:only-of-type {\n",
       "        vertical-align: middle;\n",
       "    }\n",
       "\n",
       "    .dataframe tbody tr th {\n",
       "        vertical-align: top;\n",
       "    }\n",
       "\n",
       "    .dataframe thead th {\n",
       "        text-align: right;\n",
       "    }\n",
       "</style>\n",
       "<table border=\"1\" class=\"dataframe\">\n",
       "  <thead>\n",
       "    <tr style=\"text-align: right;\">\n",
       "      <th></th>\n",
       "      <th>Kraj</th>\n",
       "      <th>Sprzedawca</th>\n",
       "      <th>Data zamowienia</th>\n",
       "      <th>idZamowienia</th>\n",
       "      <th>Utarg</th>\n",
       "    </tr>\n",
       "  </thead>\n",
       "  <tbody>\n",
       "    <tr>\n",
       "      <th>0</th>\n",
       "      <td>Polska</td>\n",
       "      <td>Kowalski</td>\n",
       "      <td>2003-07-16</td>\n",
       "      <td>10248</td>\n",
       "      <td>440.00</td>\n",
       "    </tr>\n",
       "    <tr>\n",
       "      <th>1</th>\n",
       "      <td>Polska</td>\n",
       "      <td>Sowiński</td>\n",
       "      <td>2003-07-10</td>\n",
       "      <td>10249</td>\n",
       "      <td>1863.40</td>\n",
       "    </tr>\n",
       "    <tr>\n",
       "      <th>2</th>\n",
       "      <td>Niemcy</td>\n",
       "      <td>Peacock</td>\n",
       "      <td>2003-07-12</td>\n",
       "      <td>10250</td>\n",
       "      <td>1552.60</td>\n",
       "    </tr>\n",
       "    <tr>\n",
       "      <th>3</th>\n",
       "      <td>Niemcy</td>\n",
       "      <td>Leverling</td>\n",
       "      <td>2003-07-15</td>\n",
       "      <td>10251</td>\n",
       "      <td>654.06</td>\n",
       "    </tr>\n",
       "    <tr>\n",
       "      <th>4</th>\n",
       "      <td>Niemcy</td>\n",
       "      <td>Peacock</td>\n",
       "      <td>2003-07-11</td>\n",
       "      <td>10252</td>\n",
       "      <td>3597.90</td>\n",
       "    </tr>\n",
       "  </tbody>\n",
       "</table>\n",
       "</div>"
      ],
      "text/plain": [
       "     Kraj Sprzedawca Data zamowienia  idZamowienia    Utarg\n",
       "0  Polska   Kowalski      2003-07-16         10248   440.00\n",
       "1  Polska   Sowiński      2003-07-10         10249  1863.40\n",
       "2  Niemcy    Peacock      2003-07-12         10250  1552.60\n",
       "3  Niemcy  Leverling      2003-07-15         10251   654.06\n",
       "4  Niemcy    Peacock      2003-07-11         10252  3597.90"
      ]
     },
     "execution_count": 7,
     "metadata": {},
     "output_type": "execute_result"
    }
   ],
   "source": [
    "df.head()"
   ]
  },
  {
   "cell_type": "code",
   "execution_count": 8,
   "metadata": {
    "pycharm": {
     "name": "#%%\n"
    }
   },
   "outputs": [
    {
     "name": "stdout",
     "output_type": "stream",
     "text": [
      "<class 'pandas.core.series.Series'>\n",
      "RangeIndex: 799 entries, 0 to 798\n",
      "Series name: Data zamowienia\n",
      "Non-Null Count  Dtype \n",
      "--------------  ----- \n",
      "799 non-null    object\n",
      "dtypes: object(1)\n",
      "memory usage: 6.4+ KB\n"
     ]
    }
   ],
   "source": [
    "# Przykład ustawienia kolumny z datetime w kolumnie 'Data zamowienia' z powrotem na str (wyświetlany jako \"object\" w pandasie)\n",
    "df['Data zamowienia'].astype(str).info()"
   ]
  },
  {
   "cell_type": "markdown",
   "metadata": {
    "pycharm": {
     "name": "#%% md\n"
    }
   },
   "source": [
    "W kolejnym kroku na podstawie kolumny 'Data zamowienia' stworzymy kolumnę 'year', 'month', 'day'. <br>\n",
    "Ze względu na to, że przekonwertowaliśmy już kolumnę 'Data zamowienia' na typ datetime, możemy to zrobić korzystając z funkcji dostępnych dla tego typu obiektu. <br>\n",
    "Po więcej informacji na temat obiektów typu datetime: https://pandas.pydata.org/docs/reference/api/pandas.Series.dt.date.html"
   ]
  },
  {
   "cell_type": "code",
   "execution_count": 9,
   "metadata": {
    "pycharm": {
     "name": "#%%\n"
    }
   },
   "outputs": [
    {
     "data": {
      "text/html": [
       "<div>\n",
       "<style scoped>\n",
       "    .dataframe tbody tr th:only-of-type {\n",
       "        vertical-align: middle;\n",
       "    }\n",
       "\n",
       "    .dataframe tbody tr th {\n",
       "        vertical-align: top;\n",
       "    }\n",
       "\n",
       "    .dataframe thead th {\n",
       "        text-align: right;\n",
       "    }\n",
       "</style>\n",
       "<table border=\"1\" class=\"dataframe\">\n",
       "  <thead>\n",
       "    <tr style=\"text-align: right;\">\n",
       "      <th></th>\n",
       "      <th>Kraj</th>\n",
       "      <th>Sprzedawca</th>\n",
       "      <th>Data zamowienia</th>\n",
       "      <th>idZamowienia</th>\n",
       "      <th>Utarg</th>\n",
       "      <th>year</th>\n",
       "      <th>month</th>\n",
       "      <th>day</th>\n",
       "    </tr>\n",
       "  </thead>\n",
       "  <tbody>\n",
       "    <tr>\n",
       "      <th>0</th>\n",
       "      <td>Polska</td>\n",
       "      <td>Kowalski</td>\n",
       "      <td>2003-07-16</td>\n",
       "      <td>10248</td>\n",
       "      <td>440.00</td>\n",
       "      <td>2003</td>\n",
       "      <td>7</td>\n",
       "      <td>16</td>\n",
       "    </tr>\n",
       "    <tr>\n",
       "      <th>1</th>\n",
       "      <td>Polska</td>\n",
       "      <td>Sowiński</td>\n",
       "      <td>2003-07-10</td>\n",
       "      <td>10249</td>\n",
       "      <td>1863.40</td>\n",
       "      <td>2003</td>\n",
       "      <td>7</td>\n",
       "      <td>10</td>\n",
       "    </tr>\n",
       "    <tr>\n",
       "      <th>2</th>\n",
       "      <td>Niemcy</td>\n",
       "      <td>Peacock</td>\n",
       "      <td>2003-07-12</td>\n",
       "      <td>10250</td>\n",
       "      <td>1552.60</td>\n",
       "      <td>2003</td>\n",
       "      <td>7</td>\n",
       "      <td>12</td>\n",
       "    </tr>\n",
       "    <tr>\n",
       "      <th>3</th>\n",
       "      <td>Niemcy</td>\n",
       "      <td>Leverling</td>\n",
       "      <td>2003-07-15</td>\n",
       "      <td>10251</td>\n",
       "      <td>654.06</td>\n",
       "      <td>2003</td>\n",
       "      <td>7</td>\n",
       "      <td>15</td>\n",
       "    </tr>\n",
       "    <tr>\n",
       "      <th>4</th>\n",
       "      <td>Niemcy</td>\n",
       "      <td>Peacock</td>\n",
       "      <td>2003-07-11</td>\n",
       "      <td>10252</td>\n",
       "      <td>3597.90</td>\n",
       "      <td>2003</td>\n",
       "      <td>7</td>\n",
       "      <td>11</td>\n",
       "    </tr>\n",
       "  </tbody>\n",
       "</table>\n",
       "</div>"
      ],
      "text/plain": [
       "     Kraj Sprzedawca Data zamowienia  idZamowienia    Utarg  year  month  day\n",
       "0  Polska   Kowalski      2003-07-16         10248   440.00  2003      7   16\n",
       "1  Polska   Sowiński      2003-07-10         10249  1863.40  2003      7   10\n",
       "2  Niemcy    Peacock      2003-07-12         10250  1552.60  2003      7   12\n",
       "3  Niemcy  Leverling      2003-07-15         10251   654.06  2003      7   15\n",
       "4  Niemcy    Peacock      2003-07-11         10252  3597.90  2003      7   11"
      ]
     },
     "execution_count": 9,
     "metadata": {},
     "output_type": "execute_result"
    }
   ],
   "source": [
    "df['year'] = df['Data zamowienia'].dt.year\n",
    "df['month'] = df['Data zamowienia'].dt.month\n",
    "df['day'] = df['Data zamowienia'].dt.day\n",
    "df.head()"
   ]
  },
  {
   "cell_type": "code",
   "execution_count": 10,
   "metadata": {
    "pycharm": {
     "name": "#%%\n"
    }
   },
   "outputs": [
    {
     "data": {
      "text/plain": [
       "0     2003-07-16\n",
       "1     2003-07-10\n",
       "2     2003-07-12\n",
       "3     2003-07-15\n",
       "4     2003-07-11\n",
       "         ...    \n",
       "794   2005-04-30\n",
       "795   2005-05-01\n",
       "796   2005-04-29\n",
       "797   2005-05-01\n",
       "798   2005-05-01\n",
       "Length: 799, dtype: datetime64[ns]"
      ]
     },
     "execution_count": 10,
     "metadata": {},
     "output_type": "execute_result"
    }
   ],
   "source": [
    "pd.to_datetime(df[['year', 'month', 'day']]) # przykład powrotnej konwersji na pojedynczą kolumnę"
   ]
  },
  {
   "cell_type": "markdown",
   "metadata": {
    "pycharm": {
     "name": "#%% md\n"
    }
   },
   "source": [
    "Jeżeli jednak kolumna jest typu `str`, a my chcielibyśmy na jej podstawie stworzyć nową kolumnę przekształcając całość lub fragment danych z kolumny bazowej, to jest na to wiele możliwości."
   ]
  },
  {
   "cell_type": "code",
   "execution_count": 11,
   "metadata": {
    "pycharm": {
     "name": "#%%\n"
    }
   },
   "outputs": [
    {
     "name": "stdout",
     "output_type": "stream",
     "text": [
      "<class 'pandas.core.frame.DataFrame'>\n",
      "RangeIndex: 799 entries, 0 to 798\n",
      "Data columns (total 5 columns):\n",
      " #   Column           Non-Null Count  Dtype  \n",
      "---  ------           --------------  -----  \n",
      " 0   Kraj             799 non-null    object \n",
      " 1   Sprzedawca       799 non-null    object \n",
      " 2   Data zamowienia  799 non-null    object \n",
      " 3   idZamowienia     799 non-null    int64  \n",
      " 4   Utarg            799 non-null    float64\n",
      "dtypes: float64(1), int64(1), object(3)\n",
      "memory usage: 31.3+ KB\n"
     ]
    }
   ],
   "source": [
    "# przywracamy ramkę do jej pierwotnej postaci, czyli datetime z powrotem do typu str\n",
    "df['Data zamowienia'] = df['Data zamowienia'].astype(str)\n",
    "# usuwamy zbędne kolumny\n",
    "df.drop(columns=['year', 'month', 'day'], inplace=True)\n",
    "df.info()"
   ]
  },
  {
   "cell_type": "markdown",
   "metadata": {},
   "source": [
    "Na potrzeby przykładów zostanie użytych kilka kopii bazowego zbioru danych.\n",
    "Warto wiedzieć, że możemy wykonać kopię płytką (domyślnie) lub głęboką (deep=True). Głęboka kopia oznacza rzeczywiste kopiowanie obiektów wskazywanych."
   ]
  },
  {
   "cell_type": "code",
   "execution_count": 12,
   "metadata": {
    "pycharm": {
     "name": "#%%\n"
    }
   },
   "outputs": [
    {
     "data": {
      "text/html": [
       "<div>\n",
       "<style scoped>\n",
       "    .dataframe tbody tr th:only-of-type {\n",
       "        vertical-align: middle;\n",
       "    }\n",
       "\n",
       "    .dataframe tbody tr th {\n",
       "        vertical-align: top;\n",
       "    }\n",
       "\n",
       "    .dataframe thead th {\n",
       "        text-align: right;\n",
       "    }\n",
       "</style>\n",
       "<table border=\"1\" class=\"dataframe\">\n",
       "  <thead>\n",
       "    <tr style=\"text-align: right;\">\n",
       "      <th></th>\n",
       "      <th>Kraj</th>\n",
       "      <th>Sprzedawca</th>\n",
       "      <th>Data zamowienia</th>\n",
       "      <th>idZamowienia</th>\n",
       "      <th>Utarg</th>\n",
       "      <th>rok</th>\n",
       "    </tr>\n",
       "  </thead>\n",
       "  <tbody>\n",
       "    <tr>\n",
       "      <th>0</th>\n",
       "      <td>Polska</td>\n",
       "      <td>Kowalski</td>\n",
       "      <td>2003-07-16</td>\n",
       "      <td>10248</td>\n",
       "      <td>440.00</td>\n",
       "      <td>2003</td>\n",
       "    </tr>\n",
       "    <tr>\n",
       "      <th>1</th>\n",
       "      <td>Polska</td>\n",
       "      <td>Sowiński</td>\n",
       "      <td>2003-07-10</td>\n",
       "      <td>10249</td>\n",
       "      <td>1863.40</td>\n",
       "      <td>2003</td>\n",
       "    </tr>\n",
       "    <tr>\n",
       "      <th>2</th>\n",
       "      <td>Niemcy</td>\n",
       "      <td>Peacock</td>\n",
       "      <td>2003-07-12</td>\n",
       "      <td>10250</td>\n",
       "      <td>1552.60</td>\n",
       "      <td>2003</td>\n",
       "    </tr>\n",
       "    <tr>\n",
       "      <th>3</th>\n",
       "      <td>Niemcy</td>\n",
       "      <td>Leverling</td>\n",
       "      <td>2003-07-15</td>\n",
       "      <td>10251</td>\n",
       "      <td>654.06</td>\n",
       "      <td>2003</td>\n",
       "    </tr>\n",
       "    <tr>\n",
       "      <th>4</th>\n",
       "      <td>Niemcy</td>\n",
       "      <td>Peacock</td>\n",
       "      <td>2003-07-11</td>\n",
       "      <td>10252</td>\n",
       "      <td>3597.90</td>\n",
       "      <td>2003</td>\n",
       "    </tr>\n",
       "  </tbody>\n",
       "</table>\n",
       "</div>"
      ],
      "text/plain": [
       "     Kraj Sprzedawca Data zamowienia  idZamowienia    Utarg   rok\n",
       "0  Polska   Kowalski      2003-07-16         10248   440.00  2003\n",
       "1  Polska   Sowiński      2003-07-10         10249  1863.40  2003\n",
       "2  Niemcy    Peacock      2003-07-12         10250  1552.60  2003\n",
       "3  Niemcy  Leverling      2003-07-15         10251   654.06  2003\n",
       "4  Niemcy    Peacock      2003-07-11         10252  3597.90  2003"
      ]
     },
     "execution_count": 12,
     "metadata": {},
     "output_type": "execute_result"
    }
   ],
   "source": [
    "df_copy_1 = df.copy(deep=True)\n",
    "# stworzymy nową kolumnę, która będzie zawierała rok z kolumny Data zamowienia\n",
    "# w tym przykładzie uzyskamy to pobierając cztery pierwsze znaki z każdego wiersza tej kolumny\n",
    "df_copy_1['rok'] = df_copy_1['Data zamowienia'].str[:4]\n",
    "df_copy_1.head()"
   ]
  },
  {
   "cell_type": "code",
   "execution_count": 13,
   "metadata": {
    "pycharm": {
     "name": "#%%\n"
    }
   },
   "outputs": [
    {
     "data": {
      "text/html": [
       "<div>\n",
       "<style scoped>\n",
       "    .dataframe tbody tr th:only-of-type {\n",
       "        vertical-align: middle;\n",
       "    }\n",
       "\n",
       "    .dataframe tbody tr th {\n",
       "        vertical-align: top;\n",
       "    }\n",
       "\n",
       "    .dataframe thead th {\n",
       "        text-align: right;\n",
       "    }\n",
       "</style>\n",
       "<table border=\"1\" class=\"dataframe\">\n",
       "  <thead>\n",
       "    <tr style=\"text-align: right;\">\n",
       "      <th></th>\n",
       "      <th>Kraj</th>\n",
       "      <th>Sprzedawca</th>\n",
       "      <th>Data zamowienia</th>\n",
       "      <th>idZamowienia</th>\n",
       "      <th>Utarg</th>\n",
       "      <th>rok</th>\n",
       "      <th>Nowa data</th>\n",
       "    </tr>\n",
       "  </thead>\n",
       "  <tbody>\n",
       "    <tr>\n",
       "      <th>0</th>\n",
       "      <td>Polska</td>\n",
       "      <td>Kowalski</td>\n",
       "      <td>2003-07-16</td>\n",
       "      <td>10248</td>\n",
       "      <td>440.00</td>\n",
       "      <td>2003</td>\n",
       "      <td>2003/07/16</td>\n",
       "    </tr>\n",
       "    <tr>\n",
       "      <th>1</th>\n",
       "      <td>Polska</td>\n",
       "      <td>Sowiński</td>\n",
       "      <td>2003-07-10</td>\n",
       "      <td>10249</td>\n",
       "      <td>1863.40</td>\n",
       "      <td>2003</td>\n",
       "      <td>2003/07/10</td>\n",
       "    </tr>\n",
       "    <tr>\n",
       "      <th>2</th>\n",
       "      <td>Niemcy</td>\n",
       "      <td>Peacock</td>\n",
       "      <td>2003-07-12</td>\n",
       "      <td>10250</td>\n",
       "      <td>1552.60</td>\n",
       "      <td>2003</td>\n",
       "      <td>2003/07/12</td>\n",
       "    </tr>\n",
       "    <tr>\n",
       "      <th>3</th>\n",
       "      <td>Niemcy</td>\n",
       "      <td>Leverling</td>\n",
       "      <td>2003-07-15</td>\n",
       "      <td>10251</td>\n",
       "      <td>654.06</td>\n",
       "      <td>2003</td>\n",
       "      <td>2003/07/15</td>\n",
       "    </tr>\n",
       "    <tr>\n",
       "      <th>4</th>\n",
       "      <td>Niemcy</td>\n",
       "      <td>Peacock</td>\n",
       "      <td>2003-07-11</td>\n",
       "      <td>10252</td>\n",
       "      <td>3597.90</td>\n",
       "      <td>2003</td>\n",
       "      <td>2003/07/11</td>\n",
       "    </tr>\n",
       "  </tbody>\n",
       "</table>\n",
       "</div>"
      ],
      "text/plain": [
       "     Kraj Sprzedawca Data zamowienia  idZamowienia    Utarg   rok   Nowa data\n",
       "0  Polska   Kowalski      2003-07-16         10248   440.00  2003  2003/07/16\n",
       "1  Polska   Sowiński      2003-07-10         10249  1863.40  2003  2003/07/10\n",
       "2  Niemcy    Peacock      2003-07-12         10250  1552.60  2003  2003/07/12\n",
       "3  Niemcy  Leverling      2003-07-15         10251   654.06  2003  2003/07/15\n",
       "4  Niemcy    Peacock      2003-07-11         10252  3597.90  2003  2003/07/11"
      ]
     },
     "execution_count": 13,
     "metadata": {},
     "output_type": "execute_result"
    }
   ],
   "source": [
    "# w ten sposób możemy używać dowolnych metod dla obiektu typu str\n",
    "df_copy_1['Nowa data'] = df_copy_1['Data zamowienia'].str.replace('-','/')\n",
    "df_copy_1.head()"
   ]
  },
  {
   "cell_type": "markdown",
   "metadata": {
    "pycharm": {
     "name": "#%% md\n"
    }
   },
   "source": [
    "Taki sam efekt możemy również osiągnąć poprzez zastosowanie metody [`apply()`](https://pandas.pydata.org/docs/reference/api/pandas.DataFrame.apply.html)."
   ]
  },
  {
   "cell_type": "code",
   "execution_count": 14,
   "metadata": {
    "pycharm": {
     "name": "#%%\n"
    }
   },
   "outputs": [
    {
     "data": {
      "text/html": [
       "<div>\n",
       "<style scoped>\n",
       "    .dataframe tbody tr th:only-of-type {\n",
       "        vertical-align: middle;\n",
       "    }\n",
       "\n",
       "    .dataframe tbody tr th {\n",
       "        vertical-align: top;\n",
       "    }\n",
       "\n",
       "    .dataframe thead th {\n",
       "        text-align: right;\n",
       "    }\n",
       "</style>\n",
       "<table border=\"1\" class=\"dataframe\">\n",
       "  <thead>\n",
       "    <tr style=\"text-align: right;\">\n",
       "      <th></th>\n",
       "      <th>Kraj</th>\n",
       "      <th>Sprzedawca</th>\n",
       "      <th>Data zamowienia</th>\n",
       "      <th>idZamowienia</th>\n",
       "      <th>Utarg</th>\n",
       "      <th>rok</th>\n",
       "      <th>Nowa data</th>\n",
       "      <th>Jeszcze nowsza data</th>\n",
       "    </tr>\n",
       "  </thead>\n",
       "  <tbody>\n",
       "    <tr>\n",
       "      <th>0</th>\n",
       "      <td>Polska</td>\n",
       "      <td>Kowalski</td>\n",
       "      <td>2003-07-16</td>\n",
       "      <td>10248</td>\n",
       "      <td>440.00</td>\n",
       "      <td>2003</td>\n",
       "      <td>2003/07/16</td>\n",
       "      <td>2003/07/16</td>\n",
       "    </tr>\n",
       "    <tr>\n",
       "      <th>1</th>\n",
       "      <td>Polska</td>\n",
       "      <td>Sowiński</td>\n",
       "      <td>2003-07-10</td>\n",
       "      <td>10249</td>\n",
       "      <td>1863.40</td>\n",
       "      <td>2003</td>\n",
       "      <td>2003/07/10</td>\n",
       "      <td>2003/07/10</td>\n",
       "    </tr>\n",
       "    <tr>\n",
       "      <th>2</th>\n",
       "      <td>Niemcy</td>\n",
       "      <td>Peacock</td>\n",
       "      <td>2003-07-12</td>\n",
       "      <td>10250</td>\n",
       "      <td>1552.60</td>\n",
       "      <td>2003</td>\n",
       "      <td>2003/07/12</td>\n",
       "      <td>2003/07/12</td>\n",
       "    </tr>\n",
       "    <tr>\n",
       "      <th>3</th>\n",
       "      <td>Niemcy</td>\n",
       "      <td>Leverling</td>\n",
       "      <td>2003-07-15</td>\n",
       "      <td>10251</td>\n",
       "      <td>654.06</td>\n",
       "      <td>2003</td>\n",
       "      <td>2003/07/15</td>\n",
       "      <td>2003/07/15</td>\n",
       "    </tr>\n",
       "    <tr>\n",
       "      <th>4</th>\n",
       "      <td>Niemcy</td>\n",
       "      <td>Peacock</td>\n",
       "      <td>2003-07-11</td>\n",
       "      <td>10252</td>\n",
       "      <td>3597.90</td>\n",
       "      <td>2003</td>\n",
       "      <td>2003/07/11</td>\n",
       "      <td>2003/07/11</td>\n",
       "    </tr>\n",
       "  </tbody>\n",
       "</table>\n",
       "</div>"
      ],
      "text/plain": [
       "     Kraj Sprzedawca Data zamowienia  idZamowienia    Utarg   rok   Nowa data  \\\n",
       "0  Polska   Kowalski      2003-07-16         10248   440.00  2003  2003/07/16   \n",
       "1  Polska   Sowiński      2003-07-10         10249  1863.40  2003  2003/07/10   \n",
       "2  Niemcy    Peacock      2003-07-12         10250  1552.60  2003  2003/07/12   \n",
       "3  Niemcy  Leverling      2003-07-15         10251   654.06  2003  2003/07/15   \n",
       "4  Niemcy    Peacock      2003-07-11         10252  3597.90  2003  2003/07/11   \n",
       "\n",
       "  Jeszcze nowsza data  \n",
       "0          2003/07/16  \n",
       "1          2003/07/10  \n",
       "2          2003/07/12  \n",
       "3          2003/07/15  \n",
       "4          2003/07/11  "
      ]
     },
     "execution_count": 14,
     "metadata": {},
     "output_type": "execute_result"
    }
   ],
   "source": [
    "df_copy_1['Jeszcze nowsza data'] = df_copy_1['Data zamowienia'].apply(str.replace, args=('-','/'))\n",
    "df_copy_1.head()"
   ]
  },
  {
   "cell_type": "markdown",
   "metadata": {
    "pycharm": {
     "name": "#%% md\n"
    }
   },
   "source": [
    "#### **1.2 Porównanie wykresów**\n",
    "\n",
    ">Wracamy do głównego tematu ćwiczeń, którym jest stworzenie wykresów przy użyciu Seaborn. <br>\n",
    "Każdy analityk danych próbuje uzyskać z danych konkretne informacje. Spróbujemy dowiedzieć się nieco więcej o zbiorze danych `zamówienia.csv` porównując zarówno wygląd, jak i sposób generowania wykresów.\n",
    "\n",
    "**Dokumentacja online, na którą warto rzucić okiem:**\n",
    "\n",
    "* https://seaborn.pydata.org/introduction.html\n",
    "* https://seaborn.pydata.org/tutorial/function_overview.html"
   ]
  },
  {
   "cell_type": "markdown",
   "metadata": {
    "pycharm": {
     "name": "#%% md\n"
    }
   },
   "source": [
    "**Informacja nr 1 - jak wyglądał przyrost wartości zamówień w czasie ?**"
   ]
  },
  {
   "cell_type": "code",
   "execution_count": 15,
   "metadata": {
    "pycharm": {
     "name": "#%%\n"
    }
   },
   "outputs": [],
   "source": [
    "# krok 1 - dane należy posortować chronologicznie"
   ]
  },
  {
   "cell_type": "code",
   "execution_count": 16,
   "metadata": {
    "pycharm": {
     "name": "#%%\n"
    }
   },
   "outputs": [
    {
     "data": {
      "text/html": [
       "<div>\n",
       "<style scoped>\n",
       "    .dataframe tbody tr th:only-of-type {\n",
       "        vertical-align: middle;\n",
       "    }\n",
       "\n",
       "    .dataframe tbody tr th {\n",
       "        vertical-align: top;\n",
       "    }\n",
       "\n",
       "    .dataframe thead th {\n",
       "        text-align: right;\n",
       "    }\n",
       "</style>\n",
       "<table border=\"1\" class=\"dataframe\">\n",
       "  <thead>\n",
       "    <tr style=\"text-align: right;\">\n",
       "      <th></th>\n",
       "      <th>Kraj</th>\n",
       "      <th>Sprzedawca</th>\n",
       "      <th>Data zamowienia</th>\n",
       "      <th>idZamowienia</th>\n",
       "      <th>Utarg</th>\n",
       "    </tr>\n",
       "  </thead>\n",
       "  <tbody>\n",
       "    <tr>\n",
       "      <th>0</th>\n",
       "      <td>Polska</td>\n",
       "      <td>Sowiński</td>\n",
       "      <td>2003-07-10</td>\n",
       "      <td>10249</td>\n",
       "      <td>1863.40</td>\n",
       "    </tr>\n",
       "    <tr>\n",
       "      <th>1</th>\n",
       "      <td>Niemcy</td>\n",
       "      <td>Peacock</td>\n",
       "      <td>2003-07-11</td>\n",
       "      <td>10252</td>\n",
       "      <td>3597.90</td>\n",
       "    </tr>\n",
       "    <tr>\n",
       "      <th>2</th>\n",
       "      <td>Niemcy</td>\n",
       "      <td>Peacock</td>\n",
       "      <td>2003-07-12</td>\n",
       "      <td>10250</td>\n",
       "      <td>1552.60</td>\n",
       "    </tr>\n",
       "    <tr>\n",
       "      <th>3</th>\n",
       "      <td>Niemcy</td>\n",
       "      <td>Leverling</td>\n",
       "      <td>2003-07-15</td>\n",
       "      <td>10251</td>\n",
       "      <td>654.06</td>\n",
       "    </tr>\n",
       "    <tr>\n",
       "      <th>4</th>\n",
       "      <td>Polska</td>\n",
       "      <td>Dudek</td>\n",
       "      <td>2003-07-15</td>\n",
       "      <td>10255</td>\n",
       "      <td>2490.50</td>\n",
       "    </tr>\n",
       "  </tbody>\n",
       "</table>\n",
       "</div>"
      ],
      "text/plain": [
       "     Kraj Sprzedawca Data zamowienia  idZamowienia    Utarg\n",
       "0  Polska   Sowiński      2003-07-10         10249  1863.40\n",
       "1  Niemcy    Peacock      2003-07-11         10252  3597.90\n",
       "2  Niemcy    Peacock      2003-07-12         10250  1552.60\n",
       "3  Niemcy  Leverling      2003-07-15         10251   654.06\n",
       "4  Polska      Dudek      2003-07-15         10255  2490.50"
      ]
     },
     "execution_count": 16,
     "metadata": {},
     "output_type": "execute_result"
    }
   ],
   "source": [
    "# aby nadpisać Data Frame używamy trybu inplace oraz dodatkowo, jeżeli jest to postać docelowa, ignorujemy indeks w operacji sortowania\n",
    "df_copy = df.copy()\n",
    "df_copy.sort_values(by=['Data zamowienia'], inplace=True, ignore_index=True)\n",
    "df_copy.head()\n",
    "# proszę zwrócić uwagę na numery indeksów i porównać do bloku powyżej"
   ]
  },
  {
   "cell_type": "code",
   "execution_count": 17,
   "metadata": {},
   "outputs": [
    {
     "data": {
      "text/html": [
       "<div>\n",
       "<style scoped>\n",
       "    .dataframe tbody tr th:only-of-type {\n",
       "        vertical-align: middle;\n",
       "    }\n",
       "\n",
       "    .dataframe tbody tr th {\n",
       "        vertical-align: top;\n",
       "    }\n",
       "\n",
       "    .dataframe thead th {\n",
       "        text-align: right;\n",
       "    }\n",
       "</style>\n",
       "<table border=\"1\" class=\"dataframe\">\n",
       "  <thead>\n",
       "    <tr style=\"text-align: right;\">\n",
       "      <th></th>\n",
       "      <th>Kraj</th>\n",
       "      <th>Sprzedawca</th>\n",
       "      <th>Data zamowienia</th>\n",
       "      <th>idZamowienia</th>\n",
       "      <th>Utarg</th>\n",
       "    </tr>\n",
       "  </thead>\n",
       "  <tbody>\n",
       "    <tr>\n",
       "      <th>1</th>\n",
       "      <td>Polska</td>\n",
       "      <td>Sowiński</td>\n",
       "      <td>2003-07-10</td>\n",
       "      <td>10249</td>\n",
       "      <td>1863.40</td>\n",
       "    </tr>\n",
       "    <tr>\n",
       "      <th>4</th>\n",
       "      <td>Niemcy</td>\n",
       "      <td>Peacock</td>\n",
       "      <td>2003-07-11</td>\n",
       "      <td>10252</td>\n",
       "      <td>3597.90</td>\n",
       "    </tr>\n",
       "    <tr>\n",
       "      <th>2</th>\n",
       "      <td>Niemcy</td>\n",
       "      <td>Peacock</td>\n",
       "      <td>2003-07-12</td>\n",
       "      <td>10250</td>\n",
       "      <td>1552.60</td>\n",
       "    </tr>\n",
       "    <tr>\n",
       "      <th>3</th>\n",
       "      <td>Niemcy</td>\n",
       "      <td>Leverling</td>\n",
       "      <td>2003-07-15</td>\n",
       "      <td>10251</td>\n",
       "      <td>654.06</td>\n",
       "    </tr>\n",
       "    <tr>\n",
       "      <th>7</th>\n",
       "      <td>Polska</td>\n",
       "      <td>Dudek</td>\n",
       "      <td>2003-07-15</td>\n",
       "      <td>10255</td>\n",
       "      <td>2490.50</td>\n",
       "    </tr>\n",
       "  </tbody>\n",
       "</table>\n",
       "</div>"
      ],
      "text/plain": [
       "     Kraj Sprzedawca Data zamowienia  idZamowienia    Utarg\n",
       "1  Polska   Sowiński      2003-07-10         10249  1863.40\n",
       "4  Niemcy    Peacock      2003-07-11         10252  3597.90\n",
       "2  Niemcy    Peacock      2003-07-12         10250  1552.60\n",
       "3  Niemcy  Leverling      2003-07-15         10251   654.06\n",
       "7  Polska      Dudek      2003-07-15         10255  2490.50"
      ]
     },
     "execution_count": 17,
     "metadata": {},
     "output_type": "execute_result"
    }
   ],
   "source": [
    "# index można jednak \"zresetować\" również poza operacją sortowania\n",
    "# najpierw nieuporządkowana postać\n",
    "df['Data zamowienia'] = pd.to_datetime(df['Data zamowienia'])\n",
    "df.sort_values(by=['Data zamowienia'], inplace=True)\n",
    "df.head()"
   ]
  },
  {
   "cell_type": "code",
   "execution_count": 18,
   "metadata": {},
   "outputs": [
    {
     "data": {
      "text/html": [
       "<div>\n",
       "<style scoped>\n",
       "    .dataframe tbody tr th:only-of-type {\n",
       "        vertical-align: middle;\n",
       "    }\n",
       "\n",
       "    .dataframe tbody tr th {\n",
       "        vertical-align: top;\n",
       "    }\n",
       "\n",
       "    .dataframe thead th {\n",
       "        text-align: right;\n",
       "    }\n",
       "</style>\n",
       "<table border=\"1\" class=\"dataframe\">\n",
       "  <thead>\n",
       "    <tr style=\"text-align: right;\">\n",
       "      <th></th>\n",
       "      <th>Kraj</th>\n",
       "      <th>Sprzedawca</th>\n",
       "      <th>Data zamowienia</th>\n",
       "      <th>idZamowienia</th>\n",
       "      <th>Utarg</th>\n",
       "    </tr>\n",
       "  </thead>\n",
       "  <tbody>\n",
       "    <tr>\n",
       "      <th>0</th>\n",
       "      <td>Polska</td>\n",
       "      <td>Sowiński</td>\n",
       "      <td>2003-07-10</td>\n",
       "      <td>10249</td>\n",
       "      <td>1863.40</td>\n",
       "    </tr>\n",
       "    <tr>\n",
       "      <th>1</th>\n",
       "      <td>Niemcy</td>\n",
       "      <td>Peacock</td>\n",
       "      <td>2003-07-11</td>\n",
       "      <td>10252</td>\n",
       "      <td>3597.90</td>\n",
       "    </tr>\n",
       "    <tr>\n",
       "      <th>2</th>\n",
       "      <td>Niemcy</td>\n",
       "      <td>Peacock</td>\n",
       "      <td>2003-07-12</td>\n",
       "      <td>10250</td>\n",
       "      <td>1552.60</td>\n",
       "    </tr>\n",
       "    <tr>\n",
       "      <th>3</th>\n",
       "      <td>Niemcy</td>\n",
       "      <td>Leverling</td>\n",
       "      <td>2003-07-15</td>\n",
       "      <td>10251</td>\n",
       "      <td>654.06</td>\n",
       "    </tr>\n",
       "    <tr>\n",
       "      <th>4</th>\n",
       "      <td>Polska</td>\n",
       "      <td>Dudek</td>\n",
       "      <td>2003-07-15</td>\n",
       "      <td>10255</td>\n",
       "      <td>2490.50</td>\n",
       "    </tr>\n",
       "  </tbody>\n",
       "</table>\n",
       "</div>"
      ],
      "text/plain": [
       "     Kraj Sprzedawca Data zamowienia  idZamowienia    Utarg\n",
       "0  Polska   Sowiński      2003-07-10         10249  1863.40\n",
       "1  Niemcy    Peacock      2003-07-11         10252  3597.90\n",
       "2  Niemcy    Peacock      2003-07-12         10250  1552.60\n",
       "3  Niemcy  Leverling      2003-07-15         10251   654.06\n",
       "4  Polska      Dudek      2003-07-15         10255  2490.50"
      ]
     },
     "execution_count": 18,
     "metadata": {},
     "output_type": "execute_result"
    }
   ],
   "source": [
    "# reset indeksu\n",
    "df.reset_index(drop=True, inplace=True)\n",
    "df.head()"
   ]
  },
  {
   "cell_type": "code",
   "execution_count": 19,
   "metadata": {
    "pycharm": {
     "name": "#%%\n"
    }
   },
   "outputs": [
    {
     "data": {
      "text/plain": [
       "0     1863.40\n",
       "1     5461.30\n",
       "2     7013.90\n",
       "3     7667.96\n",
       "4    10158.46\n",
       "Name: Utarg, dtype: float64"
      ]
     },
     "execution_count": 19,
     "metadata": {},
     "output_type": "execute_result"
    }
   ],
   "source": [
    "# przyrost wartości zamówień możemy osiągnąć poprzez użycie sumy skumulowanej, więc dla wiarygodności danych niezbędne było nam posortowanie danych wg.daty (ze zresetowanym indeksem)\n",
    "df['Utarg'].cumsum().head()"
   ]
  },
  {
   "cell_type": "code",
   "execution_count": 20,
   "metadata": {
    "pycharm": {
     "name": "#%%\n"
    }
   },
   "outputs": [
    {
     "data": {
      "image/png": "[encoded data removed]",
      "text/plain": [
       "<Figure size 640x480 with 1 Axes>"
      ]
     },
     "metadata": {},
     "output_type": "display_data"
    }
   ],
   "source": [
    "# możemy od razu wyświetlić te dane na wykresie\n",
    "# case 1 - bezpośrednio z pandas DataFrame\n",
    "# W Jupyter Notebook średnik na końcu powoduje, że nie jest wyświetlana wartość zwracana przez metodę plot()\n",
    "df['Utarg'].cumsum().plot();"
   ]
  },
  {
   "cell_type": "markdown",
   "metadata": {
    "pycharm": {
     "name": "#%% md\n"
    }
   },
   "source": [
    "Nie wygląda to najlepiej i niewiele informacji z tego wykresu wynika. Głównym winowajcą jest wartość widoczna na osi x. Poprzednia operacja zwróciła wartość `pandas Series` w postaci indeksu kolejnej wartości sumy skumulowanej. Utworzymy pomocniczą serię danych z indeksem w postaci daty:"
   ]
  },
  {
   "cell_type": "code",
   "execution_count": 21,
   "metadata": {
    "pycharm": {
     "name": "#%%\n"
    }
   },
   "outputs": [
    {
     "data": {
      "image/png": "[encoded data removed]",
      "text/plain": [
       "<Figure size 640x480 with 1 Axes>"
      ]
     },
     "metadata": {},
     "output_type": "display_data"
    }
   ],
   "source": [
    "df[['Data zamowienia', 'Utarg']].set_index('Data zamowienia').cumsum().plot();"
   ]
  },
  {
   "cell_type": "code",
   "execution_count": 22,
   "metadata": {
    "pycharm": {
     "name": "#%%\n"
    }
   },
   "outputs": [
    {
     "data": {
      "image/png": "[encoded data removed]",
      "text/plain": [
       "<Figure size 640x480 with 1 Axes>"
      ]
     },
     "metadata": {},
     "output_type": "display_data"
    }
   ],
   "source": [
    "# użycie biblioteki seaborn\n",
    "sns.lineplot(data=df, x='Data zamowienia', y=np.cumsum(df['Utarg']));"
   ]
  },
  {
   "cell_type": "markdown",
   "metadata": {
    "pycharm": {
     "name": "#%% md\n"
    }
   },
   "source": [
    "**Informacja nr 2 - Jak rozkładają się sumy zamówień dla danego sprzedawcy ?**"
   ]
  },
  {
   "cell_type": "code",
   "execution_count": 23,
   "metadata": {
    "pycharm": {
     "name": "#%%\n"
    }
   },
   "outputs": [
    {
     "data": {
      "text/plain": [
       "<Axes: xlabel='Sprzedawca'>"
      ]
     },
     "execution_count": 23,
     "metadata": {},
     "output_type": "execute_result"
    },
    {
     "data": {
      "image/png": "[encoded data removed]",
      "text/plain": [
       "<Figure size 640x480 with 1 Axes>"
      ]
     },
     "metadata": {},
     "output_type": "display_data"
    }
   ],
   "source": [
    "# grupujemy dane po kolumnie sprzedawca używając sumy jako funkcji agregacji\n",
    "df.groupby('Sprzedawca').agg({'Utarg': ['sum']}).plot(kind=\"bar\")"
   ]
  },
  {
   "cell_type": "code",
   "execution_count": 24,
   "metadata": {
    "pycharm": {
     "name": "#%%\n"
    }
   },
   "outputs": [
    {
     "name": "stderr",
     "output_type": "stream",
     "text": [
      "C:\\Users\\Asystent\\AppData\\Local\\Temp\\ipykernel_4872\\2019224840.py:4: FutureWarning: \n",
      "\n",
      "The `ci` parameter is deprecated. Use `errorbar=None` for the same effect.\n",
      "\n",
      "  ax = sns.barplot(x='Sprzedawca', y='Utarg', data=df, ci=None, estimator=sum)\n"
     ]
    },
    {
     "data": {
      "image/png": "[encoded data removed]",
      "text/plain": [
       "<Figure size 640x480 with 1 Axes>"
      ]
     },
     "metadata": {},
     "output_type": "display_data"
    }
   ],
   "source": [
    "# wykres słupkowy z użyciem biblioteki seaborn\n",
    "# nie musimy wcześniej grupować ramki poprawnie określając serie danych oraz estimator\n",
    "# dokumentacja dla tego rodzaju wykresu https://seaborn.pydata.org/generated/seaborn.barplot.html\n",
    "ax = sns.barplot(x='Sprzedawca', y='Utarg', data=df, ci=None, estimator=sum)\n",
    "# rotacja etykiet na osi x\n",
    "plt.xticks(rotation=45);"
   ]
  },
  {
   "cell_type": "code",
   "execution_count": 25,
   "metadata": {
    "pycharm": {
     "name": "#%%\n"
    }
   },
   "outputs": [
    {
     "data": {
      "image/png": "[encoded data removed]",
      "text/plain": [
       "<Figure size 640x480 with 1 Axes>"
      ]
     },
     "metadata": {},
     "output_type": "display_data"
    }
   ],
   "source": [
    "# struktura\n",
    "df.groupby('Sprzedawca').agg({'Utarg': ['sum']}).plot(kind=\"pie\", subplots=True)\n",
    "# odsuwamy nieco legendę\n",
    "plt.legend(bbox_to_anchor=(1.3,1.025));"
   ]
  },
  {
   "cell_type": "code",
   "execution_count": 26,
   "metadata": {
    "pycharm": {
     "name": "#%%\n"
    }
   },
   "outputs": [
    {
     "data": {
      "image/png": "[encoded data removed]",
      "text/plain": [
       "<Figure size 640x480 with 1 Axes>"
      ]
     },
     "metadata": {},
     "output_type": "display_data"
    }
   ],
   "source": [
    "# ponownie seaborn z wykresem kołowym, struktura wartości zamówień\n",
    "# bardziej w stylu matplotlib\n",
    "colors = sns.color_palette('pastel')[0:5]\n",
    "dane = df.groupby('Sprzedawca').agg({'Utarg': ['sum']})\n",
    "# wyświetl zmienną dane i przeanalizuj postać tej ramki danych\n",
    "\n",
    "# dla każdej przeprowadzonej agregacji (można użyć wiele jednocześnie) jest utworzona grupa\n",
    "# aby dostać się do danej części należy podać etykietę w postaci krotki (kolumna, agregacja)\n",
    "plt.pie(dane[('Utarg','sum')], labels=dane.index, colors = colors, autopct='%.0f%%')\n",
    "plt.legend(bbox_to_anchor=(1.3,1.025));"
   ]
  },
  {
   "cell_type": "markdown",
   "metadata": {
    "pycharm": {
     "name": "#%% md\n"
    }
   },
   "source": [
    "**Informacja 3 - jak rozkłada się struktura wartości w danej serii lub grupie ?**"
   ]
  },
  {
   "cell_type": "code",
   "execution_count": 27,
   "metadata": {
    "pycharm": {
     "name": "#%%\n"
    }
   },
   "outputs": [
    {
     "data": {
      "image/png": "[encoded data removed]",
      "text/plain": [
       "<Figure size 640x480 with 1 Axes>"
      ]
     },
     "metadata": {},
     "output_type": "display_data"
    }
   ],
   "source": [
    "# przy użyciu seaborn możemy dość szybko wyświetlić na wykresie liczebność wartości w poszczególnej serii danych\n",
    "# możemy je wcześniej odfiltrować, ale nie jest to konieczne\n",
    "\n",
    "dane = df[['Sprzedawca','idZamowienia']].set_index('idZamowienia')\n",
    "# rotacja etykiet na osi x\n",
    "plt.xticks(rotation=45)\n",
    "ax = sns.countplot(x=\"Sprzedawca\", data=dane)"
   ]
  },
  {
   "cell_type": "code",
   "execution_count": 28,
   "metadata": {
    "pycharm": {
     "name": "#%%\n"
    }
   },
   "outputs": [
    {
     "data": {
      "image/png": "[encoded data removed]",
      "text/plain": [
       "<Figure size 640x480 with 1 Axes>"
      ]
     },
     "metadata": {},
     "output_type": "display_data"
    }
   ],
   "source": [
    "# mozemy również użyć podwójnego grupowania w sposób dynamiczny, tzn. bez wcześniejszego przygotowywania ramki danych\n",
    "# a deklarując tę opcję w parametrach wykresu\n",
    "# rotacja etykiet na osi x\n",
    "plt.xticks(rotation=45)\n",
    "ax = sns.countplot(x=\"Sprzedawca\", hue=df['Data zamowienia'].dt.year, data=df, palette=\"Set3\")\n",
    "# dodamy również etykiety wartości\n",
    "for container in ax.containers:\n",
    "    ax.bar_label(container);"
   ]
  },
  {
   "cell_type": "markdown",
   "metadata": {
    "pycharm": {
     "name": "#%% md\n"
    }
   },
   "source": [
    "**Kilka dodatkowych przykładów z grupowaniem**"
   ]
  },
  {
   "cell_type": "code",
   "execution_count": 29,
   "metadata": {
    "pycharm": {
     "name": "#%%\n"
    }
   },
   "outputs": [
    {
     "data": {
      "text/html": [
       "<div>\n",
       "<style scoped>\n",
       "    .dataframe tbody tr th:only-of-type {\n",
       "        vertical-align: middle;\n",
       "    }\n",
       "\n",
       "    .dataframe tbody tr th {\n",
       "        vertical-align: top;\n",
       "    }\n",
       "\n",
       "    .dataframe thead tr th {\n",
       "        text-align: left;\n",
       "    }\n",
       "\n",
       "    .dataframe thead tr:last-of-type th {\n",
       "        text-align: right;\n",
       "    }\n",
       "</style>\n",
       "<table border=\"1\" class=\"dataframe\">\n",
       "  <thead>\n",
       "    <tr>\n",
       "      <th></th>\n",
       "      <th colspan=\"3\" halign=\"left\">Utarg</th>\n",
       "    </tr>\n",
       "    <tr>\n",
       "      <th></th>\n",
       "      <th>sum</th>\n",
       "      <th>mean</th>\n",
       "      <th>count</th>\n",
       "    </tr>\n",
       "    <tr>\n",
       "      <th>Sprzedawca</th>\n",
       "      <th></th>\n",
       "      <th></th>\n",
       "      <th></th>\n",
       "    </tr>\n",
       "  </thead>\n",
       "  <tbody>\n",
       "    <tr>\n",
       "      <th>Callahan</th>\n",
       "      <td>123032.67</td>\n",
       "      <td>1242.754242</td>\n",
       "      <td>99</td>\n",
       "    </tr>\n",
       "    <tr>\n",
       "      <th>Davolio</th>\n",
       "      <td>182500.09</td>\n",
       "      <td>1559.829829</td>\n",
       "      <td>117</td>\n",
       "    </tr>\n",
       "    <tr>\n",
       "      <th>Dudek</th>\n",
       "      <td>75048.04</td>\n",
       "      <td>1830.440000</td>\n",
       "      <td>41</td>\n",
       "    </tr>\n",
       "    <tr>\n",
       "      <th>Fuller</th>\n",
       "      <td>162503.78</td>\n",
       "      <td>1766.345435</td>\n",
       "      <td>92</td>\n",
       "    </tr>\n",
       "    <tr>\n",
       "      <th>King</th>\n",
       "      <td>116962.99</td>\n",
       "      <td>1745.716269</td>\n",
       "      <td>67</td>\n",
       "    </tr>\n",
       "    <tr>\n",
       "      <th>Kowalski</th>\n",
       "      <td>68792.25</td>\n",
       "      <td>1637.910714</td>\n",
       "      <td>42</td>\n",
       "    </tr>\n",
       "    <tr>\n",
       "      <th>Leverling</th>\n",
       "      <td>201196.27</td>\n",
       "      <td>1609.570160</td>\n",
       "      <td>125</td>\n",
       "    </tr>\n",
       "    <tr>\n",
       "      <th>Peacock</th>\n",
       "      <td>225763.68</td>\n",
       "      <td>1495.123709</td>\n",
       "      <td>151</td>\n",
       "    </tr>\n",
       "    <tr>\n",
       "      <th>Sowiński</th>\n",
       "      <td>72527.63</td>\n",
       "      <td>1115.809692</td>\n",
       "      <td>65</td>\n",
       "    </tr>\n",
       "  </tbody>\n",
       "</table>\n",
       "</div>"
      ],
      "text/plain": [
       "                Utarg                   \n",
       "                  sum         mean count\n",
       "Sprzedawca                              \n",
       "Callahan    123032.67  1242.754242    99\n",
       "Davolio     182500.09  1559.829829   117\n",
       "Dudek        75048.04  1830.440000    41\n",
       "Fuller      162503.78  1766.345435    92\n",
       "King        116962.99  1745.716269    67\n",
       "Kowalski     68792.25  1637.910714    42\n",
       "Leverling   201196.27  1609.570160   125\n",
       "Peacock     225763.68  1495.123709   151\n",
       "Sowiński     72527.63  1115.809692    65"
      ]
     },
     "execution_count": 29,
     "metadata": {},
     "output_type": "execute_result"
    }
   ],
   "source": [
    "# grupowanie wartości utargu dla kilku funkcji agregacji jednocześnie\n",
    "dane = df.groupby('Sprzedawca').agg({'Utarg': ['sum', 'mean', 'count']})\n",
    "dane"
   ]
  },
  {
   "cell_type": "code",
   "execution_count": 30,
   "metadata": {
    "pycharm": {
     "name": "#%%\n"
    }
   },
   "outputs": [
    {
     "data": {
      "text/plain": [
       "Sprzedawca\n",
       "Callahan     123032.67\n",
       "Davolio      182500.09\n",
       "Dudek         75048.04\n",
       "Fuller       162503.78\n",
       "King         116962.99\n",
       "Kowalski      68792.25\n",
       "Leverling    201196.27\n",
       "Peacock      225763.68\n",
       "Sowiński      72527.63\n",
       "Name: (Utarg, sum), dtype: float64"
      ]
     },
     "execution_count": 30,
     "metadata": {},
     "output_type": "execute_result"
    }
   ],
   "source": [
    "# aby dostać się do grupy musimy podać kolumnę i nazwę funkcji agregującej\n",
    "dane[('Utarg','sum')]"
   ]
  },
  {
   "cell_type": "code",
   "execution_count": 31,
   "metadata": {
    "pycharm": {
     "name": "#%%\n"
    }
   },
   "outputs": [
    {
     "data": {
      "text/plain": [
       "Sprzedawca\n",
       "Callahan     123032.67\n",
       "Davolio      182500.09\n",
       "Dudek         75048.04\n",
       "Fuller       162503.78\n",
       "King         116962.99\n",
       "Kowalski      68792.25\n",
       "Leverling    201196.27\n",
       "Peacock      225763.68\n",
       "Sowiński      72527.63\n",
       "Name: sum, dtype: float64"
      ]
     },
     "execution_count": 31,
     "metadata": {},
     "output_type": "execute_result"
    }
   ],
   "source": [
    "# lub tak (dostęp do kolumn również w taki sposób, ale nazwy muszą być bez spacji)\n",
    "dane.Utarg['sum']"
   ]
  },
  {
   "cell_type": "code",
   "execution_count": 32,
   "metadata": {
    "pycharm": {
     "name": "#%%\n"
    }
   },
   "outputs": [
    {
     "data": {
      "text/plain": [
       "75048.04"
      ]
     },
     "execution_count": 32,
     "metadata": {},
     "output_type": "execute_result"
    }
   ],
   "source": [
    "# dla przypomnienia - mamy dwie główne metody dostępu do wybranych fragementów ramki,\n",
    "# loc[wiersze, kolumny] - podajemy wartość w kolumnie indeksu oraz nazwe kolumny\n",
    "# iloc[wiersze, kolumny] - podajemy indeksy wierszy i kolumn\n",
    "dane.loc['Dudek', ('Utarg', 'sum')]"
   ]
  },
  {
   "cell_type": "code",
   "execution_count": 33,
   "metadata": {
    "pycharm": {
     "name": "#%%\n"
    }
   },
   "outputs": [
    {
     "data": {
      "text/plain": [
       "Sprzedawca\n",
       "Callahan      99\n",
       "Davolio      117\n",
       "Dudek         41\n",
       "Fuller        92\n",
       "King          67\n",
       "Kowalski      42\n",
       "Leverling    125\n",
       "Peacock      151\n",
       "Sowiński      65\n",
       "Name: (Utarg, count), dtype: int64"
      ]
     },
     "execution_count": 33,
     "metadata": {},
     "output_type": "execute_result"
    }
   ],
   "source": [
    "dane.loc[:, ('Utarg', 'count')]"
   ]
  },
  {
   "cell_type": "code",
   "execution_count": 34,
   "metadata": {
    "pycharm": {
     "name": "#%%\n"
    }
   },
   "outputs": [
    {
     "data": {
      "text/html": [
       "<div>\n",
       "<style scoped>\n",
       "    .dataframe tbody tr th:only-of-type {\n",
       "        vertical-align: middle;\n",
       "    }\n",
       "\n",
       "    .dataframe tbody tr th {\n",
       "        vertical-align: top;\n",
       "    }\n",
       "\n",
       "    .dataframe thead tr th {\n",
       "        text-align: left;\n",
       "    }\n",
       "\n",
       "    .dataframe thead tr:last-of-type th {\n",
       "        text-align: right;\n",
       "    }\n",
       "</style>\n",
       "<table border=\"1\" class=\"dataframe\">\n",
       "  <thead>\n",
       "    <tr>\n",
       "      <th></th>\n",
       "      <th colspan=\"3\" halign=\"left\">Utarg</th>\n",
       "    </tr>\n",
       "    <tr>\n",
       "      <th></th>\n",
       "      <th>count</th>\n",
       "      <th>mean</th>\n",
       "      <th>sum</th>\n",
       "    </tr>\n",
       "    <tr>\n",
       "      <th>Sprzedawca</th>\n",
       "      <th></th>\n",
       "      <th></th>\n",
       "      <th></th>\n",
       "    </tr>\n",
       "  </thead>\n",
       "  <tbody>\n",
       "    <tr>\n",
       "      <th>Callahan</th>\n",
       "      <td>99</td>\n",
       "      <td>1242.754242</td>\n",
       "      <td>123032.67</td>\n",
       "    </tr>\n",
       "    <tr>\n",
       "      <th>Davolio</th>\n",
       "      <td>117</td>\n",
       "      <td>1559.829829</td>\n",
       "      <td>182500.09</td>\n",
       "    </tr>\n",
       "    <tr>\n",
       "      <th>Dudek</th>\n",
       "      <td>41</td>\n",
       "      <td>1830.440000</td>\n",
       "      <td>75048.04</td>\n",
       "    </tr>\n",
       "    <tr>\n",
       "      <th>Fuller</th>\n",
       "      <td>92</td>\n",
       "      <td>1766.345435</td>\n",
       "      <td>162503.78</td>\n",
       "    </tr>\n",
       "    <tr>\n",
       "      <th>King</th>\n",
       "      <td>67</td>\n",
       "      <td>1745.716269</td>\n",
       "      <td>116962.99</td>\n",
       "    </tr>\n",
       "  </tbody>\n",
       "</table>\n",
       "</div>"
      ],
      "text/plain": [
       "           Utarg                        \n",
       "           count         mean        sum\n",
       "Sprzedawca                              \n",
       "Callahan      99  1242.754242  123032.67\n",
       "Davolio      117  1559.829829  182500.09\n",
       "Dudek         41  1830.440000   75048.04\n",
       "Fuller        92  1766.345435  162503.78\n",
       "King          67  1745.716269  116962.99"
      ]
     },
     "execution_count": 34,
     "metadata": {},
     "output_type": "execute_result"
    }
   ],
   "source": [
    "dane.iloc[0:5, ::-1]"
   ]
  },
  {
   "cell_type": "code",
   "execution_count": 35,
   "metadata": {
    "pycharm": {
     "name": "#%%\n"
    }
   },
   "outputs": [
    {
     "data": {
      "text/plain": [
       "(                Utarg                   \n",
       "                   sum         mean count\n",
       " Sprzedawca                              \n",
       " Callahan    123032.67  1242.754242    99\n",
       " Davolio     182500.09  1559.829829   117\n",
       " Dudek        75048.04  1830.440000    41\n",
       " Fuller      162503.78  1766.345435    92,\n",
       "                   sum         mean  count\n",
       " Sprzedawca                               \n",
       " Callahan    123032.67  1242.754242     99\n",
       " Davolio     182500.09  1559.829829    117\n",
       " Dudek        75048.04  1830.440000     41\n",
       " Fuller      162503.78  1766.345435     92\n",
       " King        116962.99  1745.716269     67\n",
       " Kowalski     68792.25  1637.910714     42\n",
       " Leverling   201196.27  1609.570160    125\n",
       " Peacock     225763.68  1495.123709    151\n",
       " Sowiński     72527.63  1115.809692     65)"
      ]
     },
     "execution_count": 35,
     "metadata": {},
     "output_type": "execute_result"
    }
   ],
   "source": [
    "# możemy również używać wycinków (ang. slice) tak jak do tej pory na listach, tablicach numpy itp\n",
    "dane[:4], dane[::2]"
   ]
  },
  {
   "cell_type": "code",
   "execution_count": 36,
   "metadata": {
    "pycharm": {
     "name": "#%%\n"
    }
   },
   "outputs": [
    {
     "data": {
      "text/plain": [
       "225763.68"
      ]
     },
     "execution_count": 36,
     "metadata": {},
     "output_type": "execute_result"
    }
   ],
   "source": [
    "# chcemy zwrócić nazwisko sprzedawcy, który uzyskał największą sumę przychodów\n",
    "# to nie do końca to czego chcemy, ale samą wartość już mamy\n",
    "dane[('Utarg','sum')].max()"
   ]
  },
  {
   "cell_type": "code",
   "execution_count": 37,
   "metadata": {
    "pycharm": {
     "name": "#%%\n"
    }
   },
   "outputs": [
    {
     "data": {
      "text/plain": [
       "Sprzedawca\n",
       "Peacock    225763.68\n",
       "Name: (Utarg, sum), dtype: float64"
      ]
     },
     "execution_count": 37,
     "metadata": {},
     "output_type": "execute_result"
    }
   ],
   "source": [
    "# możemy tak, poprzez założenie filtra na danej serii danych\n",
    "dane[('Utarg', 'sum')][dane[('Utarg', 'sum')] == dane[('Utarg', 'sum')].max()]"
   ]
  },
  {
   "cell_type": "code",
   "execution_count": 38,
   "metadata": {
    "pycharm": {
     "name": "#%%\n"
    }
   },
   "outputs": [
    {
     "data": {
      "text/plain": [
       "'Peacock'"
      ]
     },
     "execution_count": 38,
     "metadata": {},
     "output_type": "execute_result"
    }
   ],
   "source": [
    "# ale można znaleźć indeks, do którego przypisana jest wartość maksymalna w danej kolumnie\n",
    "dane[('Utarg', 'sum')].idxmax()"
   ]
  },
  {
   "cell_type": "code",
   "execution_count": 39,
   "metadata": {
    "pycharm": {
     "name": "#%%\n"
    }
   },
   "outputs": [
    {
     "data": {
      "text/plain": [
       "Utarg  sum      225763.680000\n",
       "       mean       1495.123709\n",
       "       count       151.000000\n",
       "Name: Peacock, dtype: float64"
      ]
     },
     "execution_count": 39,
     "metadata": {},
     "output_type": "execute_result"
    }
   ],
   "source": [
    "# teraz można użyć tego, co zostało zwrócone do pobrania całego wiersz\n",
    "dane.loc[dane[('Utarg', 'sum')].idxmax()]"
   ]
  },
  {
   "cell_type": "code",
   "execution_count": 40,
   "metadata": {
    "pycharm": {
     "name": "#%%\n"
    }
   },
   "outputs": [
    {
     "name": "stderr",
     "output_type": "stream",
     "text": [
      "C:\\Users\\Asystent\\AppData\\Local\\Temp\\ipykernel_4872\\1707233834.py:4: FutureWarning: The provided callable <built-in function sum> is currently using SeriesGroupBy.sum. In a future version of pandas, the provided callable will be used directly. To keep current behavior pass the string \"sum\" instead.\n",
      "  dane = dane.groupby([dane['Data zamowienia'].dt.year, dane['Data zamowienia'].dt.month,'Sprzedawca']).agg({'Utarg': sum})\n"
     ]
    },
    {
     "data": {
      "text/html": [
       "<div>\n",
       "<style scoped>\n",
       "    .dataframe tbody tr th:only-of-type {\n",
       "        vertical-align: middle;\n",
       "    }\n",
       "\n",
       "    .dataframe tbody tr th {\n",
       "        vertical-align: top;\n",
       "    }\n",
       "\n",
       "    .dataframe thead th {\n",
       "        text-align: right;\n",
       "    }\n",
       "</style>\n",
       "<table border=\"1\" class=\"dataframe\">\n",
       "  <thead>\n",
       "    <tr style=\"text-align: right;\">\n",
       "      <th></th>\n",
       "      <th></th>\n",
       "      <th></th>\n",
       "      <th>Utarg</th>\n",
       "    </tr>\n",
       "    <tr>\n",
       "      <th>Data zamowienia</th>\n",
       "      <th>Data zamowienia</th>\n",
       "      <th>Sprzedawca</th>\n",
       "      <th></th>\n",
       "    </tr>\n",
       "  </thead>\n",
       "  <tbody>\n",
       "    <tr>\n",
       "      <th rowspan=\"5\" valign=\"top\">2003</th>\n",
       "      <th rowspan=\"5\" valign=\"top\">7</th>\n",
       "      <th>Callahan</th>\n",
       "      <td>584.00</td>\n",
       "    </tr>\n",
       "    <tr>\n",
       "      <th>Davolio</th>\n",
       "      <td>1614.88</td>\n",
       "    </tr>\n",
       "    <tr>\n",
       "      <th>Dudek</th>\n",
       "      <td>4364.30</td>\n",
       "    </tr>\n",
       "    <tr>\n",
       "      <th>Kowalski</th>\n",
       "      <td>996.62</td>\n",
       "    </tr>\n",
       "    <tr>\n",
       "      <th>Leverling</th>\n",
       "      <td>2963.22</td>\n",
       "    </tr>\n",
       "    <tr>\n",
       "      <th>...</th>\n",
       "      <th>...</th>\n",
       "      <th>...</th>\n",
       "      <td>...</td>\n",
       "    </tr>\n",
       "    <tr>\n",
       "      <th rowspan=\"5\" valign=\"top\">2005</th>\n",
       "      <th rowspan=\"5\" valign=\"top\">5</th>\n",
       "      <th>Callahan</th>\n",
       "      <td>3740.00</td>\n",
       "    </tr>\n",
       "    <tr>\n",
       "      <th>Fuller</th>\n",
       "      <td>405.75</td>\n",
       "    </tr>\n",
       "    <tr>\n",
       "      <th>King</th>\n",
       "      <td>817.87</td>\n",
       "    </tr>\n",
       "    <tr>\n",
       "      <th>Leverling</th>\n",
       "      <td>1377.00</td>\n",
       "    </tr>\n",
       "    <tr>\n",
       "      <th>Peacock</th>\n",
       "      <td>591.60</td>\n",
       "    </tr>\n",
       "  </tbody>\n",
       "</table>\n",
       "<p>191 rows × 1 columns</p>\n",
       "</div>"
      ],
      "text/plain": [
       "                                              Utarg\n",
       "Data zamowienia Data zamowienia Sprzedawca         \n",
       "2003            7               Callahan     584.00\n",
       "                                Davolio     1614.88\n",
       "                                Dudek       4364.30\n",
       "                                Kowalski     996.62\n",
       "                                Leverling   2963.22\n",
       "...                                             ...\n",
       "2005            5               Callahan    3740.00\n",
       "                                Fuller       405.75\n",
       "                                King         817.87\n",
       "                                Leverling   1377.00\n",
       "                                Peacock      591.60\n",
       "\n",
       "[191 rows x 1 columns]"
      ]
     },
     "execution_count": 40,
     "metadata": {},
     "output_type": "execute_result"
    }
   ],
   "source": [
    "# dodajmy jeszcze grupowanie po datach lub ich częściach\n",
    "dane = df[['Data zamowienia','Sprzedawca','Utarg']]\n",
    "# grupowanie po roku i miesiącu\n",
    "dane = dane.groupby([dane['Data zamowienia'].dt.year, dane['Data zamowienia'].dt.month,'Sprzedawca']).agg({'Utarg': sum})\n",
    "dane"
   ]
  }
 ],
 "metadata": {
  "kernelspec": {
   "display_name": "Python 3 (ipykernel)",
   "language": "python",
   "name": "python3"
  },
  "language_info": {
   "codemirror_mode": {
    "name": "ipython",
    "version": 3
   },
   "file_extension": ".py",
   "mimetype": "text/x-python",
   "name": "python",
   "nbconvert_exporter": "python",
   "pygments_lexer": "ipython3",
   "version": "3.12.2"
  }
 },
 "nbformat": 4,
 "nbformat_minor": 4
}

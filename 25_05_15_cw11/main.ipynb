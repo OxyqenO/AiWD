{
 "cells": [
  {
   "metadata": {
    "ExecuteTime": {
     "end_time": "2025-05-15T09:57:29.620387Z",
     "start_time": "2025-05-15T09:57:29.615877Z"
    }
   },
   "cell_type": "code",
   "source": [
    "# Importujemy niezbędne biblioteki\n",
    "import seaborn as sns\n",
    "import matplotlib.pyplot as plt\n",
    "import pandas as pd\n",
    "%matplotlib inline"
   ],
   "id": "2062617530a826ce",
   "outputs": [],
   "execution_count": 8
  },
  {
   "metadata": {},
   "cell_type": "code",
   "outputs": [],
   "execution_count": null,
   "source": [
    "# Ustawienie stylu wykresów (tło jasne)\n",
    "sns.set_style('whitegrid')"
   ],
   "id": "8624543406f0694d"
  },
  {
   "metadata": {},
   "cell_type": "markdown",
   "source": "Załaduj plik CSV jako Data Frame i wyświetl jego 4 pierwsze wiersze. Pamiętaj, przy wczytaniu zbioru Pokemon.csv parametr encoding należy ustawić na wartość latin.\n",
   "id": "868d0391b6669412"
  },
  {
   "metadata": {
    "ExecuteTime": {
     "end_time": "2025-05-15T10:01:00.097818Z",
     "start_time": "2025-05-15T10:01:00.079552Z"
    }
   },
   "cell_type": "code",
   "source": [
    "df = pd.read_csv('Pokemon.csv', index_col=0, encoding='latin')\n",
    "df.head(4)"
   ],
   "id": "initial_id",
   "outputs": [
    {
     "data": {
      "text/plain": [
       "         Name Type 1  Type 2  Total  HP  Attack  Defense  Sp. Atk  Sp. Def  \\\n",
       "#                                                                            \n",
       "1   Bulbasaur  Grass  Poison    318  45      49       49       65       65   \n",
       "2     Ivysaur  Grass  Poison    405  60      62       63       80       80   \n",
       "3    Venusaur  Grass  Poison    525  80      82       83      100      100   \n",
       "4  Charmander   Fire     NaN    309  39      52       43       60       50   \n",
       "\n",
       "   Speed  Stage  Legendary  \n",
       "#                           \n",
       "1     45      1      False  \n",
       "2     60      2      False  \n",
       "3     80      3      False  \n",
       "4     65      1      False  "
      ],
      "text/html": [
       "<div>\n",
       "<style scoped>\n",
       "    .dataframe tbody tr th:only-of-type {\n",
       "        vertical-align: middle;\n",
       "    }\n",
       "\n",
       "    .dataframe tbody tr th {\n",
       "        vertical-align: top;\n",
       "    }\n",
       "\n",
       "    .dataframe thead th {\n",
       "        text-align: right;\n",
       "    }\n",
       "</style>\n",
       "<table border=\"1\" class=\"dataframe\">\n",
       "  <thead>\n",
       "    <tr style=\"text-align: right;\">\n",
       "      <th></th>\n",
       "      <th>Name</th>\n",
       "      <th>Type 1</th>\n",
       "      <th>Type 2</th>\n",
       "      <th>Total</th>\n",
       "      <th>HP</th>\n",
       "      <th>Attack</th>\n",
       "      <th>Defense</th>\n",
       "      <th>Sp. Atk</th>\n",
       "      <th>Sp. Def</th>\n",
       "      <th>Speed</th>\n",
       "      <th>Stage</th>\n",
       "      <th>Legendary</th>\n",
       "    </tr>\n",
       "    <tr>\n",
       "      <th>#</th>\n",
       "      <th></th>\n",
       "      <th></th>\n",
       "      <th></th>\n",
       "      <th></th>\n",
       "      <th></th>\n",
       "      <th></th>\n",
       "      <th></th>\n",
       "      <th></th>\n",
       "      <th></th>\n",
       "      <th></th>\n",
       "      <th></th>\n",
       "      <th></th>\n",
       "    </tr>\n",
       "  </thead>\n",
       "  <tbody>\n",
       "    <tr>\n",
       "      <th>1</th>\n",
       "      <td>Bulbasaur</td>\n",
       "      <td>Grass</td>\n",
       "      <td>Poison</td>\n",
       "      <td>318</td>\n",
       "      <td>45</td>\n",
       "      <td>49</td>\n",
       "      <td>49</td>\n",
       "      <td>65</td>\n",
       "      <td>65</td>\n",
       "      <td>45</td>\n",
       "      <td>1</td>\n",
       "      <td>False</td>\n",
       "    </tr>\n",
       "    <tr>\n",
       "      <th>2</th>\n",
       "      <td>Ivysaur</td>\n",
       "      <td>Grass</td>\n",
       "      <td>Poison</td>\n",
       "      <td>405</td>\n",
       "      <td>60</td>\n",
       "      <td>62</td>\n",
       "      <td>63</td>\n",
       "      <td>80</td>\n",
       "      <td>80</td>\n",
       "      <td>60</td>\n",
       "      <td>2</td>\n",
       "      <td>False</td>\n",
       "    </tr>\n",
       "    <tr>\n",
       "      <th>3</th>\n",
       "      <td>Venusaur</td>\n",
       "      <td>Grass</td>\n",
       "      <td>Poison</td>\n",
       "      <td>525</td>\n",
       "      <td>80</td>\n",
       "      <td>82</td>\n",
       "      <td>83</td>\n",
       "      <td>100</td>\n",
       "      <td>100</td>\n",
       "      <td>80</td>\n",
       "      <td>3</td>\n",
       "      <td>False</td>\n",
       "    </tr>\n",
       "    <tr>\n",
       "      <th>4</th>\n",
       "      <td>Charmander</td>\n",
       "      <td>Fire</td>\n",
       "      <td>NaN</td>\n",
       "      <td>309</td>\n",
       "      <td>39</td>\n",
       "      <td>52</td>\n",
       "      <td>43</td>\n",
       "      <td>60</td>\n",
       "      <td>50</td>\n",
       "      <td>65</td>\n",
       "      <td>1</td>\n",
       "      <td>False</td>\n",
       "    </tr>\n",
       "  </tbody>\n",
       "</table>\n",
       "</div>"
      ]
     },
     "execution_count": 13,
     "metadata": {},
     "output_type": "execute_result"
    }
   ],
   "execution_count": 13
  },
  {
   "metadata": {},
   "cell_type": "markdown",
   "source": "Zgrupuj dane na podstawie wartości kolumny Type 1 następnie oblicz średnią dla wartość kolumny Defense dla każdej grupy.\n",
   "id": "69ae5bb8ec7cc4d1"
  },
  {
   "metadata": {
    "ExecuteTime": {
     "end_time": "2025-05-15T10:15:47.664818Z",
     "start_time": "2025-05-15T10:15:47.658125Z"
    }
   },
   "cell_type": "code",
   "source": [
    "srednia = df.groupby(['Type 1'])['Defense'].mean()\n",
    "srednia.head(10)"
   ],
   "id": "d9bfba506ef825fb",
   "outputs": [
    {
     "data": {
      "text/plain": [
       "Type 1\n",
       "Bug         57.083333\n",
       "Dragon      68.333333\n",
       "Electric    64.666667\n",
       "Fairy       60.500000\n",
       "Fighting    61.000000\n",
       "Fire        62.583333\n",
       "Ghost       45.000000\n",
       "Grass       69.583333\n",
       "Ground      86.250000\n",
       "Ice         67.500000\n",
       "Name: Defense, dtype: float64"
      ]
     },
     "execution_count": 46,
     "metadata": {},
     "output_type": "execute_result"
    }
   ],
   "execution_count": 46
  },
  {
   "metadata": {},
   "cell_type": "markdown",
   "source": "Utwórz nową kolumnę o nazwie Średnia obrona wg. Typu 1, gdzie dla każdego pokemona umieścisz obliczoną wcześniej średnią wartość obrony dla typu 1 (uwzględniając typ pokemona).",
   "id": "93029bb7c8594b69"
  },
  {
   "metadata": {
    "ExecuteTime": {
     "end_time": "2025-05-15T10:16:00.557380Z",
     "start_time": "2025-05-15T10:16:00.538059Z"
    }
   },
   "cell_type": "code",
   "source": [
    "df['Średnia obrona wg. Typu 1'] = df['Type 1'].map(srednia)\n",
    "df.head()"
   ],
   "id": "80d013145023cc60",
   "outputs": [
    {
     "data": {
      "text/plain": [
       "         Name Type 1  Type 2  Total  HP  Attack  Defense  Sp. Atk  Sp. Def  \\\n",
       "#                                                                            \n",
       "1   Bulbasaur  Grass  Poison    318  45      49       49       65       65   \n",
       "2     Ivysaur  Grass  Poison    405  60      62       63       80       80   \n",
       "3    Venusaur  Grass  Poison    525  80      82       83      100      100   \n",
       "4  Charmander   Fire     NaN    309  39      52       43       60       50   \n",
       "5  Charmeleon   Fire     NaN    405  58      64       58       80       65   \n",
       "\n",
       "   Speed  Stage  Legendary  Średnia obrona wg. Typu 1  \n",
       "#                                                      \n",
       "1     45      1      False                  69.583333  \n",
       "2     60      2      False                  69.583333  \n",
       "3     80      3      False                  69.583333  \n",
       "4     65      1      False                  62.583333  \n",
       "5     80      2      False                  62.583333  "
      ],
      "text/html": [
       "<div>\n",
       "<style scoped>\n",
       "    .dataframe tbody tr th:only-of-type {\n",
       "        vertical-align: middle;\n",
       "    }\n",
       "\n",
       "    .dataframe tbody tr th {\n",
       "        vertical-align: top;\n",
       "    }\n",
       "\n",
       "    .dataframe thead th {\n",
       "        text-align: right;\n",
       "    }\n",
       "</style>\n",
       "<table border=\"1\" class=\"dataframe\">\n",
       "  <thead>\n",
       "    <tr style=\"text-align: right;\">\n",
       "      <th></th>\n",
       "      <th>Name</th>\n",
       "      <th>Type 1</th>\n",
       "      <th>Type 2</th>\n",
       "      <th>Total</th>\n",
       "      <th>HP</th>\n",
       "      <th>Attack</th>\n",
       "      <th>Defense</th>\n",
       "      <th>Sp. Atk</th>\n",
       "      <th>Sp. Def</th>\n",
       "      <th>Speed</th>\n",
       "      <th>Stage</th>\n",
       "      <th>Legendary</th>\n",
       "      <th>Średnia obrona wg. Typu 1</th>\n",
       "    </tr>\n",
       "    <tr>\n",
       "      <th>#</th>\n",
       "      <th></th>\n",
       "      <th></th>\n",
       "      <th></th>\n",
       "      <th></th>\n",
       "      <th></th>\n",
       "      <th></th>\n",
       "      <th></th>\n",
       "      <th></th>\n",
       "      <th></th>\n",
       "      <th></th>\n",
       "      <th></th>\n",
       "      <th></th>\n",
       "      <th></th>\n",
       "    </tr>\n",
       "  </thead>\n",
       "  <tbody>\n",
       "    <tr>\n",
       "      <th>1</th>\n",
       "      <td>Bulbasaur</td>\n",
       "      <td>Grass</td>\n",
       "      <td>Poison</td>\n",
       "      <td>318</td>\n",
       "      <td>45</td>\n",
       "      <td>49</td>\n",
       "      <td>49</td>\n",
       "      <td>65</td>\n",
       "      <td>65</td>\n",
       "      <td>45</td>\n",
       "      <td>1</td>\n",
       "      <td>False</td>\n",
       "      <td>69.583333</td>\n",
       "    </tr>\n",
       "    <tr>\n",
       "      <th>2</th>\n",
       "      <td>Ivysaur</td>\n",
       "      <td>Grass</td>\n",
       "      <td>Poison</td>\n",
       "      <td>405</td>\n",
       "      <td>60</td>\n",
       "      <td>62</td>\n",
       "      <td>63</td>\n",
       "      <td>80</td>\n",
       "      <td>80</td>\n",
       "      <td>60</td>\n",
       "      <td>2</td>\n",
       "      <td>False</td>\n",
       "      <td>69.583333</td>\n",
       "    </tr>\n",
       "    <tr>\n",
       "      <th>3</th>\n",
       "      <td>Venusaur</td>\n",
       "      <td>Grass</td>\n",
       "      <td>Poison</td>\n",
       "      <td>525</td>\n",
       "      <td>80</td>\n",
       "      <td>82</td>\n",
       "      <td>83</td>\n",
       "      <td>100</td>\n",
       "      <td>100</td>\n",
       "      <td>80</td>\n",
       "      <td>3</td>\n",
       "      <td>False</td>\n",
       "      <td>69.583333</td>\n",
       "    </tr>\n",
       "    <tr>\n",
       "      <th>4</th>\n",
       "      <td>Charmander</td>\n",
       "      <td>Fire</td>\n",
       "      <td>NaN</td>\n",
       "      <td>309</td>\n",
       "      <td>39</td>\n",
       "      <td>52</td>\n",
       "      <td>43</td>\n",
       "      <td>60</td>\n",
       "      <td>50</td>\n",
       "      <td>65</td>\n",
       "      <td>1</td>\n",
       "      <td>False</td>\n",
       "      <td>62.583333</td>\n",
       "    </tr>\n",
       "    <tr>\n",
       "      <th>5</th>\n",
       "      <td>Charmeleon</td>\n",
       "      <td>Fire</td>\n",
       "      <td>NaN</td>\n",
       "      <td>405</td>\n",
       "      <td>58</td>\n",
       "      <td>64</td>\n",
       "      <td>58</td>\n",
       "      <td>80</td>\n",
       "      <td>65</td>\n",
       "      <td>80</td>\n",
       "      <td>2</td>\n",
       "      <td>False</td>\n",
       "      <td>62.583333</td>\n",
       "    </tr>\n",
       "  </tbody>\n",
       "</table>\n",
       "</div>"
      ]
     },
     "execution_count": 48,
     "metadata": {},
     "output_type": "execute_result"
    }
   ],
   "execution_count": 48
  },
  {
   "metadata": {},
   "cell_type": "markdown",
   "source": "Utwórz nową kolumnę o nazwie Ulubiony, w której umieścisz wartość „Tak”, jeśli którykolwiek z typów Pokemona (kolumna Type 1 lub Type 2) jest typem kamiennym (wartość Rock). W przeciwnym wypadku, wstaw wartość „Nie”.",
   "id": "4535ef49fef2eca4"
  },
  {
   "metadata": {
    "ExecuteTime": {
     "end_time": "2025-05-15T10:24:28.028123Z",
     "start_time": "2025-05-15T10:24:28.011736Z"
    }
   },
   "cell_type": "code",
   "source": [
    "df['Ulubiony'] = df.apply(lambda x: 'Tak' if x['Type 1'] == 'Rock' or x['Type 2'] == 'Rock' else 'Nie', axis = 1)\n",
    "df.head()"
   ],
   "id": "66ce7bf61be73103",
   "outputs": [
    {
     "data": {
      "text/plain": [
       "         Name Type 1  Type 2  Total  HP  Attack  Defense  Sp. Atk  Sp. Def  \\\n",
       "#                                                                            \n",
       "1   Bulbasaur  Grass  Poison    318  45      49       49       65       65   \n",
       "2     Ivysaur  Grass  Poison    405  60      62       63       80       80   \n",
       "3    Venusaur  Grass  Poison    525  80      82       83      100      100   \n",
       "4  Charmander   Fire     NaN    309  39      52       43       60       50   \n",
       "5  Charmeleon   Fire     NaN    405  58      64       58       80       65   \n",
       "\n",
       "   Speed  Stage  Legendary  Średnia obrona wg. Typu 1 Ulubiony  \n",
       "#                                                               \n",
       "1     45      1      False                  69.583333      Nie  \n",
       "2     60      2      False                  69.583333      Nie  \n",
       "3     80      3      False                  69.583333      Nie  \n",
       "4     65      1      False                  62.583333      Nie  \n",
       "5     80      2      False                  62.583333      Nie  "
      ],
      "text/html": [
       "<div>\n",
       "<style scoped>\n",
       "    .dataframe tbody tr th:only-of-type {\n",
       "        vertical-align: middle;\n",
       "    }\n",
       "\n",
       "    .dataframe tbody tr th {\n",
       "        vertical-align: top;\n",
       "    }\n",
       "\n",
       "    .dataframe thead th {\n",
       "        text-align: right;\n",
       "    }\n",
       "</style>\n",
       "<table border=\"1\" class=\"dataframe\">\n",
       "  <thead>\n",
       "    <tr style=\"text-align: right;\">\n",
       "      <th></th>\n",
       "      <th>Name</th>\n",
       "      <th>Type 1</th>\n",
       "      <th>Type 2</th>\n",
       "      <th>Total</th>\n",
       "      <th>HP</th>\n",
       "      <th>Attack</th>\n",
       "      <th>Defense</th>\n",
       "      <th>Sp. Atk</th>\n",
       "      <th>Sp. Def</th>\n",
       "      <th>Speed</th>\n",
       "      <th>Stage</th>\n",
       "      <th>Legendary</th>\n",
       "      <th>Średnia obrona wg. Typu 1</th>\n",
       "      <th>Ulubiony</th>\n",
       "    </tr>\n",
       "    <tr>\n",
       "      <th>#</th>\n",
       "      <th></th>\n",
       "      <th></th>\n",
       "      <th></th>\n",
       "      <th></th>\n",
       "      <th></th>\n",
       "      <th></th>\n",
       "      <th></th>\n",
       "      <th></th>\n",
       "      <th></th>\n",
       "      <th></th>\n",
       "      <th></th>\n",
       "      <th></th>\n",
       "      <th></th>\n",
       "      <th></th>\n",
       "    </tr>\n",
       "  </thead>\n",
       "  <tbody>\n",
       "    <tr>\n",
       "      <th>1</th>\n",
       "      <td>Bulbasaur</td>\n",
       "      <td>Grass</td>\n",
       "      <td>Poison</td>\n",
       "      <td>318</td>\n",
       "      <td>45</td>\n",
       "      <td>49</td>\n",
       "      <td>49</td>\n",
       "      <td>65</td>\n",
       "      <td>65</td>\n",
       "      <td>45</td>\n",
       "      <td>1</td>\n",
       "      <td>False</td>\n",
       "      <td>69.583333</td>\n",
       "      <td>Nie</td>\n",
       "    </tr>\n",
       "    <tr>\n",
       "      <th>2</th>\n",
       "      <td>Ivysaur</td>\n",
       "      <td>Grass</td>\n",
       "      <td>Poison</td>\n",
       "      <td>405</td>\n",
       "      <td>60</td>\n",
       "      <td>62</td>\n",
       "      <td>63</td>\n",
       "      <td>80</td>\n",
       "      <td>80</td>\n",
       "      <td>60</td>\n",
       "      <td>2</td>\n",
       "      <td>False</td>\n",
       "      <td>69.583333</td>\n",
       "      <td>Nie</td>\n",
       "    </tr>\n",
       "    <tr>\n",
       "      <th>3</th>\n",
       "      <td>Venusaur</td>\n",
       "      <td>Grass</td>\n",
       "      <td>Poison</td>\n",
       "      <td>525</td>\n",
       "      <td>80</td>\n",
       "      <td>82</td>\n",
       "      <td>83</td>\n",
       "      <td>100</td>\n",
       "      <td>100</td>\n",
       "      <td>80</td>\n",
       "      <td>3</td>\n",
       "      <td>False</td>\n",
       "      <td>69.583333</td>\n",
       "      <td>Nie</td>\n",
       "    </tr>\n",
       "    <tr>\n",
       "      <th>4</th>\n",
       "      <td>Charmander</td>\n",
       "      <td>Fire</td>\n",
       "      <td>NaN</td>\n",
       "      <td>309</td>\n",
       "      <td>39</td>\n",
       "      <td>52</td>\n",
       "      <td>43</td>\n",
       "      <td>60</td>\n",
       "      <td>50</td>\n",
       "      <td>65</td>\n",
       "      <td>1</td>\n",
       "      <td>False</td>\n",
       "      <td>62.583333</td>\n",
       "      <td>Nie</td>\n",
       "    </tr>\n",
       "    <tr>\n",
       "      <th>5</th>\n",
       "      <td>Charmeleon</td>\n",
       "      <td>Fire</td>\n",
       "      <td>NaN</td>\n",
       "      <td>405</td>\n",
       "      <td>58</td>\n",
       "      <td>64</td>\n",
       "      <td>58</td>\n",
       "      <td>80</td>\n",
       "      <td>65</td>\n",
       "      <td>80</td>\n",
       "      <td>2</td>\n",
       "      <td>False</td>\n",
       "      <td>62.583333</td>\n",
       "      <td>Nie</td>\n",
       "    </tr>\n",
       "  </tbody>\n",
       "</table>\n",
       "</div>"
      ]
     },
     "execution_count": 55,
     "metadata": {},
     "output_type": "execute_result"
    }
   ],
   "execution_count": 55
  },
  {
   "metadata": {},
   "cell_type": "markdown",
   "source": "Utwórz nową kolumnę o nazwie Dwa typy, gdzie połączysz myślnikiem wartości z kolumny Type 1 oraz Type 2.",
   "id": "f8769c83804c2798"
  },
  {
   "metadata": {
    "ExecuteTime": {
     "end_time": "2025-05-15T10:28:01.527058Z",
     "start_time": "2025-05-15T10:28:01.513097Z"
    }
   },
   "cell_type": "code",
   "source": [
    "df['Dwa typy'] = df['Type 1'] + '-' + df['Type 2']\n",
    "df.head()"
   ],
   "id": "32eee0f250cb9b8e",
   "outputs": [
    {
     "data": {
      "text/plain": [
       "         Name Type 1  Type 2  Total  HP  Attack  Defense  Sp. Atk  Sp. Def  \\\n",
       "#                                                                            \n",
       "1   Bulbasaur  Grass  Poison    318  45      49       49       65       65   \n",
       "2     Ivysaur  Grass  Poison    405  60      62       63       80       80   \n",
       "3    Venusaur  Grass  Poison    525  80      82       83      100      100   \n",
       "4  Charmander   Fire     NaN    309  39      52       43       60       50   \n",
       "5  Charmeleon   Fire     NaN    405  58      64       58       80       65   \n",
       "\n",
       "   Speed  Stage  Legendary  Średnia obrona wg. Typu 1 Ulubiony      Dwa typy  \n",
       "#                                                                             \n",
       "1     45      1      False                  69.583333      Nie  Grass-Poison  \n",
       "2     60      2      False                  69.583333      Nie  Grass-Poison  \n",
       "3     80      3      False                  69.583333      Nie  Grass-Poison  \n",
       "4     65      1      False                  62.583333      Nie           NaN  \n",
       "5     80      2      False                  62.583333      Nie           NaN  "
      ],
      "text/html": [
       "<div>\n",
       "<style scoped>\n",
       "    .dataframe tbody tr th:only-of-type {\n",
       "        vertical-align: middle;\n",
       "    }\n",
       "\n",
       "    .dataframe tbody tr th {\n",
       "        vertical-align: top;\n",
       "    }\n",
       "\n",
       "    .dataframe thead th {\n",
       "        text-align: right;\n",
       "    }\n",
       "</style>\n",
       "<table border=\"1\" class=\"dataframe\">\n",
       "  <thead>\n",
       "    <tr style=\"text-align: right;\">\n",
       "      <th></th>\n",
       "      <th>Name</th>\n",
       "      <th>Type 1</th>\n",
       "      <th>Type 2</th>\n",
       "      <th>Total</th>\n",
       "      <th>HP</th>\n",
       "      <th>Attack</th>\n",
       "      <th>Defense</th>\n",
       "      <th>Sp. Atk</th>\n",
       "      <th>Sp. Def</th>\n",
       "      <th>Speed</th>\n",
       "      <th>Stage</th>\n",
       "      <th>Legendary</th>\n",
       "      <th>Średnia obrona wg. Typu 1</th>\n",
       "      <th>Ulubiony</th>\n",
       "      <th>Dwa typy</th>\n",
       "    </tr>\n",
       "    <tr>\n",
       "      <th>#</th>\n",
       "      <th></th>\n",
       "      <th></th>\n",
       "      <th></th>\n",
       "      <th></th>\n",
       "      <th></th>\n",
       "      <th></th>\n",
       "      <th></th>\n",
       "      <th></th>\n",
       "      <th></th>\n",
       "      <th></th>\n",
       "      <th></th>\n",
       "      <th></th>\n",
       "      <th></th>\n",
       "      <th></th>\n",
       "      <th></th>\n",
       "    </tr>\n",
       "  </thead>\n",
       "  <tbody>\n",
       "    <tr>\n",
       "      <th>1</th>\n",
       "      <td>Bulbasaur</td>\n",
       "      <td>Grass</td>\n",
       "      <td>Poison</td>\n",
       "      <td>318</td>\n",
       "      <td>45</td>\n",
       "      <td>49</td>\n",
       "      <td>49</td>\n",
       "      <td>65</td>\n",
       "      <td>65</td>\n",
       "      <td>45</td>\n",
       "      <td>1</td>\n",
       "      <td>False</td>\n",
       "      <td>69.583333</td>\n",
       "      <td>Nie</td>\n",
       "      <td>Grass-Poison</td>\n",
       "    </tr>\n",
       "    <tr>\n",
       "      <th>2</th>\n",
       "      <td>Ivysaur</td>\n",
       "      <td>Grass</td>\n",
       "      <td>Poison</td>\n",
       "      <td>405</td>\n",
       "      <td>60</td>\n",
       "      <td>62</td>\n",
       "      <td>63</td>\n",
       "      <td>80</td>\n",
       "      <td>80</td>\n",
       "      <td>60</td>\n",
       "      <td>2</td>\n",
       "      <td>False</td>\n",
       "      <td>69.583333</td>\n",
       "      <td>Nie</td>\n",
       "      <td>Grass-Poison</td>\n",
       "    </tr>\n",
       "    <tr>\n",
       "      <th>3</th>\n",
       "      <td>Venusaur</td>\n",
       "      <td>Grass</td>\n",
       "      <td>Poison</td>\n",
       "      <td>525</td>\n",
       "      <td>80</td>\n",
       "      <td>82</td>\n",
       "      <td>83</td>\n",
       "      <td>100</td>\n",
       "      <td>100</td>\n",
       "      <td>80</td>\n",
       "      <td>3</td>\n",
       "      <td>False</td>\n",
       "      <td>69.583333</td>\n",
       "      <td>Nie</td>\n",
       "      <td>Grass-Poison</td>\n",
       "    </tr>\n",
       "    <tr>\n",
       "      <th>4</th>\n",
       "      <td>Charmander</td>\n",
       "      <td>Fire</td>\n",
       "      <td>NaN</td>\n",
       "      <td>309</td>\n",
       "      <td>39</td>\n",
       "      <td>52</td>\n",
       "      <td>43</td>\n",
       "      <td>60</td>\n",
       "      <td>50</td>\n",
       "      <td>65</td>\n",
       "      <td>1</td>\n",
       "      <td>False</td>\n",
       "      <td>62.583333</td>\n",
       "      <td>Nie</td>\n",
       "      <td>NaN</td>\n",
       "    </tr>\n",
       "    <tr>\n",
       "      <th>5</th>\n",
       "      <td>Charmeleon</td>\n",
       "      <td>Fire</td>\n",
       "      <td>NaN</td>\n",
       "      <td>405</td>\n",
       "      <td>58</td>\n",
       "      <td>64</td>\n",
       "      <td>58</td>\n",
       "      <td>80</td>\n",
       "      <td>65</td>\n",
       "      <td>80</td>\n",
       "      <td>2</td>\n",
       "      <td>False</td>\n",
       "      <td>62.583333</td>\n",
       "      <td>Nie</td>\n",
       "      <td>NaN</td>\n",
       "    </tr>\n",
       "  </tbody>\n",
       "</table>\n",
       "</div>"
      ]
     },
     "execution_count": 57,
     "metadata": {},
     "output_type": "execute_result"
    }
   ],
   "execution_count": 57
  },
  {
   "metadata": {},
   "cell_type": "markdown",
   "source": "Wyświetl liczbę wierszy w zbiorze danych. Usuń ze zbioru wszystkie legendarne pokemony i ponownie wyświetl liczbę wierszy w zbiorze danych.",
   "id": "613c0fa2a71333b"
  },
  {
   "metadata": {
    "ExecuteTime": {
     "end_time": "2025-05-15T10:36:37.396005Z",
     "start_time": "2025-05-15T10:36:37.389205Z"
    }
   },
   "cell_type": "code",
   "source": [
    "rows = len(df.index)\n",
    "print(rows)"
   ],
   "id": "8e97fa4a6f1fdd60",
   "outputs": [
    {
     "name": "stdout",
     "output_type": "stream",
     "text": [
      "147\n"
     ]
    }
   ],
   "execution_count": 77
  },
  {
   "metadata": {
    "ExecuteTime": {
     "end_time": "2025-05-15T10:36:46.559696Z",
     "start_time": "2025-05-15T10:36:46.552582Z"
    }
   },
   "cell_type": "code",
   "source": [
    "df2 = df[df.Legendary != True]\n",
    "rows = len(df2.index)\n",
    "print(rows)"
   ],
   "id": "c304ec96134e9e80",
   "outputs": [
    {
     "name": "stdout",
     "output_type": "stream",
     "text": [
      "147\n"
     ]
    }
   ],
   "execution_count": 78
  },
  {
   "metadata": {},
   "cell_type": "markdown",
   "source": "Wyświetl liczbę wszystkich pokemonów, które nie mają drugiego typu.\n",
   "id": "252ff6f0d0c17a29"
  },
  {
   "metadata": {
    "ExecuteTime": {
     "end_time": "2025-05-15T10:38:55.209081Z",
     "start_time": "2025-05-15T10:38:55.203456Z"
    }
   },
   "cell_type": "code",
   "source": [
    "df3 = df[df['Type 2'].isna()]\n",
    "rows = len(df3.index)\n",
    "print(rows)"
   ],
   "id": "b3a1ea7131ccbd64",
   "outputs": [
    {
     "name": "stdout",
     "output_type": "stream",
     "text": [
      "83\n"
     ]
    }
   ],
   "execution_count": 82
  },
  {
   "metadata": {},
   "cell_type": "markdown",
   "source": "Zapisz zmodyfikowany Data Frame do nowego pliku modified_pokemon.csv.",
   "id": "a6270bbbd7945a04"
  },
  {
   "metadata": {
    "ExecuteTime": {
     "end_time": "2025-05-15T10:39:47.218212Z",
     "start_time": "2025-05-15T10:39:47.205984Z"
    }
   },
   "cell_type": "code",
   "source": "df.to_csv('modified pokemon.csv', index = False)",
   "id": "b8f82ef16f024cfc",
   "outputs": [],
   "execution_count": 83
  },
  {
   "metadata": {},
   "cell_type": "markdown",
   "source": "WYKRESY",
   "id": "54249610811cd1a"
  },
  {
   "metadata": {},
   "cell_type": "markdown",
   "source": "Na jednym płótnie (figure) wyświetl 4 różne wykresy (w dwóch rzędach i dwóch kolumnach). Ustaw wielkość płótna na (14,10).",
   "id": "954a813478b4dd83"
  },
  {
   "metadata": {
    "ExecuteTime": {
     "end_time": "2025-05-15T10:44:12.748328Z",
     "start_time": "2025-05-15T10:44:12.645251Z"
    }
   },
   "cell_type": "code",
   "source": [
    "#Na jednym płótnie (figure) wyświetl 4 różne wykresy (w dwóch rzędach i dwóch kolumnach). Ustaw wielkość płótna na (14,10).\n",
    "plt.figure(figsize=(14,10))\n",
    "\n",
    "#Nadaj tytuł płótna – „Analiza statystyk pokemonów regionu Kanto”. Powiększ czcionkę tytułu, dla lepszej czytelności.\n",
    "plt.suptitle(\"Analiza statystyk pokemonów regionu Kanto\")\n",
    "\n",
    "plt.subplot(2,2,1) #2 - ilość wierszy, 2 - ilość kolumn, 1 - na którym się skupiamy w tej chwili\n",
    "\n",
    "plt.show()"
   ],
   "id": "a0db7eb0326f11ea",
   "outputs": [
    {
     "data": {
      "text/plain": [
       "<Figure size 1400x1000 with 1 Axes>"
      ],
      "image/png": "[encoded data removed]"
     },
     "metadata": {},
     "output_type": "display_data"
    }
   ],
   "execution_count": 88
  },
  {
   "metadata": {},
   "cell_type": "markdown",
   "source": "Stwórz wykres słupkowy pokazujący średnie wartości ataku i obrony (kolumny Attack i Defense). Ustaw wybrane przez siebie kolory dla obu słupków.",
   "id": "f54b07bb4d211a13"
  },
  {
   "metadata": {
    "ExecuteTime": {
     "end_time": "2025-05-15T10:57:52.880986Z",
     "start_time": "2025-05-15T10:57:52.803231Z"
    }
   },
   "cell_type": "code",
   "source": [
    "x = df[['Attack', 'Defense']].mean()\n",
    "plt.bar(x.index, x.values, color = ['Red', 'Blue'])\n",
    "plt.show()"
   ],
   "id": "539ff782196331e",
   "outputs": [
    {
     "data": {
      "text/plain": [
       "<Figure size 640x480 with 1 Axes>"
      ],
      "image/png": "[encoded data removed]"
     },
     "metadata": {},
     "output_type": "display_data"
    }
   ],
   "execution_count": 100
  },
  {
   "metadata": {},
   "cell_type": "markdown",
   "source": "Stwórz wykres kołowy przedstawiający procentowy rozkład pokemonów w zależności od ich podstawowego typu (kolumna Type 1). Wyświetl legendę opisującą typy pokemonów i przesuń ją poza obszar wykresu. Przedstaw wartości procentowe na wykresie (użyj parametru autopct do ustawienia wartości procentowych oraz pctdistance do ustawienia ich pozycji). Upewnij się, że każdy typ ma inny kolor na wykresie.",
   "id": "152a2f2a4d538430"
  },
  {
   "metadata": {},
   "cell_type": "code",
   "outputs": [],
   "execution_count": null,
   "source": "",
   "id": "f49c448ed972bf30"
  }
 ],
 "metadata": {
  "kernelspec": {
   "display_name": "Python 3",
   "language": "python",
   "name": "python3"
  },
  "language_info": {
   "codemirror_mode": {
    "name": "ipython",
    "version": 2
   },
   "file_extension": ".py",
   "mimetype": "text/x-python",
   "name": "python",
   "nbconvert_exporter": "python",
   "pygments_lexer": "ipython2",
   "version": "2.7.6"
  }
 },
 "nbformat": 4,
 "nbformat_minor": 5
}
